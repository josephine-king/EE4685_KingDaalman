{
 "cells": [
  {
   "cell_type": "markdown",
   "metadata": {},
   "source": [
    "**EE4685 Assignment 2: Building a miniGPT** by Josephine King and Alec Daalman\n",
    "\n",
    "**References:**\n",
    "- \"Let's build GPT: from scratch, in code, spelled out.\" Youtube tutorial by Andrej Karpathy. https://www.youtube.com/watch?v=kCc8FmEb1nY\n",
    "- HuggingFace Tokenizer developer guides. https://huggingface.co/docs/transformers/en/notebooks\n"
   ]
  },
  {
   "cell_type": "code",
   "execution_count": null,
   "metadata": {},
   "outputs": [
    {
     "name": "stdout",
     "output_type": "stream",
     "text": [
      "Using device cpu\n",
      "--2025-03-22 14:08:29--  https://raw.githubusercontent.com/karpathy/char-rnn/master/data/tinyshakespeare/input.txt\n",
      "Resolving raw.githubusercontent.com (raw.githubusercontent.com)... 185.199.111.133, 185.199.110.133, 185.199.109.133, ...\n",
      "Connecting to raw.githubusercontent.com (raw.githubusercontent.com)|185.199.111.133|:443... "
     ]
    },
    {
     "name": "stderr",
     "output_type": "stream",
     "text": [
      "huggingface/tokenizers: The current process just got forked, after parallelism has already been used. Disabling parallelism to avoid deadlocks...\n",
      "To disable this warning, you can either:\n",
      "\t- Avoid using `tokenizers` before the fork if possible\n",
      "\t- Explicitly set the environment variable TOKENIZERS_PARALLELISM=(true | false)\n"
     ]
    },
    {
     "name": "stdout",
     "output_type": "stream",
     "text": [
      "connected.\n",
      "HTTP request sent, awaiting response... 200 OK\n",
      "Length: 1115394 (1.1M) [text/plain]\n",
      "Saving to: ‘tinyshakespeare.txt’\n",
      "\n",
      "tinyshakespeare.txt 100%[===================>]   1.06M  6.50MB/s    in 0.2s    \n",
      "\n",
      "2025-03-22 14:08:29 (6.50 MB/s) - ‘tinyshakespeare.txt’ saved [1115394/1115394]\n",
      "\n"
     ]
    }
   ],
   "source": [
    "# Import packages\n",
    "import os\n",
    "from tqdm.notebook import tqdm\n",
    "import tiktoken\n",
    "import torch\n",
    "import torch.nn as nn\n",
    "from torch.nn import functional as F\n",
    "import torch.utils.data as data\n",
    "from tokenizers import Tokenizer, pre_tokenizers\n",
    "from tokenizers.models import BPE\n",
    "from tokenizers.trainers import BpeTrainer\n",
    "from tokenizers.decoders import BPEDecoder\n",
    "from tokenizers.pre_tokenizers import Whitespace\n",
    "import matplotlib.pyplot as plt\n",
    "\n",
    "# Setup\n",
    "torch.manual_seed(6250513)\n",
    "device = 'cuda' if torch.cuda.is_available() else 'cpu'\n",
    "CHECKPOINT_PATH = \"./saved_models/\"\n",
    "device = torch.device(\"cpu\") if not torch.cuda.is_available() else torch.device(\"cuda:0\")\n",
    "print(\"Using device\", device)\n",
    "\n",
    "# Initialize model parameters\n",
    "TRAIN_PCT = 0.8\n",
    "BLOCK_SIZE = 64\n",
    "BATCH_SIZE = 32\n",
    "MAX_ITER = 6000\n",
    "VOCAB_SIZE = 3000\n",
    "EMBD_DIM = 192\n",
    "LR = 2.5e-5\n",
    "\n",
    "# Download the TinyShakespeare dataset\n",
    "!wget -O tinyshakespeare.txt https://raw.githubusercontent.com/karpathy/char-rnn/master/data/tinyshakespeare/input.txt\n",
    "with open('tinyshakespeare.txt', 'r', encoding='utf-8') as f: raw_data = f.read()\n"
   ]
  },
  {
   "cell_type": "markdown",
   "metadata": {},
   "source": [
    "**Model Training Functions:**"
   ]
  },
  {
   "cell_type": "code",
   "execution_count": 168,
   "metadata": {},
   "outputs": [],
   "source": [
    "def get_batch(data, batch_size, block_size):\n",
    "    # Choose batch_size random starting points\n",
    "    block_starts = torch.randint(0, len(data) - block_size, (batch_size,))\n",
    "    # Get the inputs and outputs for the chosen blocks, stack them into tensors\n",
    "    batch_inputs = torch.stack([data[start: start + block_size] for start in block_starts])\n",
    "    batch_outputs = torch.stack([data[start + 1: start + block_size + 1] for start in block_starts])\n",
    "    return batch_inputs, batch_outputs\n",
    "\n",
    "def estimate_loss(model, data, batch_size, block_size, iters):\n",
    "    out = {}\n",
    "    model.eval()\n",
    "    losses = torch.zeros(iters)\n",
    "    for k in range(iters):\n",
    "        inputs, outputs = get_batch(data, batch_size, block_size)\n",
    "        logits, loss = model(inputs, outputs)\n",
    "        losses[k] = loss.item()\n",
    "    mean_loss = losses.mean()\n",
    "    model.train()\n",
    "    return mean_loss\n",
    "\n",
    "# The following functions are copied/modified from the optimization exercise \n",
    "def _get_config_file(model_path, model_name):\n",
    "    return os.path.join(model_path, model_name + \".config\")\n",
    "\n",
    "def _get_model_file(model_path, model_name):\n",
    "    return os.path.join(model_path, model_name + \".tar\")\n",
    "\n",
    "def _get_result_file(model_path, model_name):\n",
    "    return os.path.join(model_path, model_name + \"_results.json\")\n",
    "\n",
    "def save_model(model, model_path, model_name):\n",
    "    config_dict = model.config\n",
    "    os.makedirs(model_path, exist_ok=True)\n",
    "    config_file, model_file = _get_config_file(model_path, model_name), _get_model_file(model_path, model_name)\n",
    "    with open(config_file, \"w\") as f:\n",
    "        json.dump(config_dict, f)\n",
    "    torch.save(model.state_dict(), model_file)\n",
    "\n",
    "def train_model(train_set, validation_set, model, model_name, optimizer, max_iter=1000, batch_size=256, block_size=32, overwrite=False, save_model=False):\n",
    "    \"\"\"\n",
    "    Train a model on the training set of FashionMNIST\n",
    "\n",
    "    Inputs:\n",
    "        train_set - Training dataset\n",
    "        model - Object of BaseNetwork\n",
    "        model_name - (str) Name of the model, used for creating the checkpoint names\n",
    "        max_iter - Number of iterations we want to (maximally) train for\n",
    "        patience - If the performance on the validation set has not improved for #patience epochs, we stop training early\n",
    "        batch_size - Size of batches used in training\n",
    "        overwrite - Determines how to handle the case when there already exists a checkpoint. If True, it will be overwritten. Otherwise, we skip training.\n",
    "    \"\"\"\n",
    "    file_exists = os.path.isfile(_get_model_file(CHECKPOINT_PATH, model_name))\n",
    "    if file_exists and not overwrite:\n",
    "        print(f\"Model file of \\\"{model_name}\\\" already exists. Skipping training...\")\n",
    "        with open(_get_result_file(CHECKPOINT_PATH, model_name), \"r\") as f:\n",
    "            results = json.load(f)\n",
    "    else:\n",
    "        if file_exists:\n",
    "            print(\"Model file exists, but will be overwritten...\")\n",
    "\n",
    "        ############\n",
    "        # Training #\n",
    "        ############\n",
    "        model.train()\n",
    "        training_losses = []\n",
    "        validation_losses = []\n",
    "        iters = []\n",
    "        for iter in range(max_iter):\n",
    "            inputs, outputs = get_batch(train_set, batch_size, block_size)\n",
    "            inputs, outputs = inputs.to(device), outputs.to(device)\n",
    "            optimizer.zero_grad()\n",
    "            preds,loss = model(inputs, outputs)\n",
    "            if iter % 100 == 0 or iter == max_iter - 1:\n",
    "                print(f\"iter {iter}: loss = {loss}\")\n",
    "                train_loss = estimate_loss(model, train_set, batch_size, block_size, 500)\n",
    "                validation_loss = estimate_loss(model, validation_set, batch_size, block_size, 500)\n",
    "                training_losses.append(train_loss)\n",
    "                validation_losses.append(validation_loss)\n",
    "                iters.append(iter)\n",
    "                print(f\"estimated train loss: {train_loss}, estimated validation loss: {validation_loss}\")\n",
    "            loss.backward()\n",
    "            optimizer.step()\n",
    "\n",
    "        if (save_model):\n",
    "            save_model(model, CHECKPOINT_PATH, model_name)\n",
    "\n",
    "    return model, training_losses, validation_losses, iters"
   ]
  },
  {
   "cell_type": "markdown",
   "metadata": {},
   "source": [
    "**Bigram Language Model**"
   ]
  },
  {
   "cell_type": "code",
   "execution_count": 162,
   "metadata": {},
   "outputs": [],
   "source": [
    "# Copied from Karpathy's tutorial\n",
    "class BigramLanguageModel(nn.Module):\n",
    "\n",
    "    def __init__(self, vocab_size):\n",
    "        super().__init__()\n",
    "        # each token directly reads off the logits for the next token from a lookup table\n",
    "        self.token_embedding_table = nn.Embedding(vocab_size, vocab_size)\n",
    "\n",
    "    def forward(self, idx, targets=None):\n",
    "        # idx and targets are both (B,T) tensor of integers\n",
    "        logits = self.token_embedding_table(idx) # (B,T,C)\n",
    "\n",
    "        if targets is None:\n",
    "            loss = None\n",
    "        else:\n",
    "            B, T, C = logits.shape\n",
    "            logits = logits.view(B*T, C)\n",
    "            targets = targets.view(B*T)\n",
    "            loss = F.cross_entropy(logits, targets)\n",
    "\n",
    "        return logits, loss\n",
    "\n",
    "    # Generate num_gen_tokens more tokens given the current tokens in curr_tokens\n",
    "    def generate(self, curr_tokens, num_gen_tokens):\n",
    "        for _ in range(num_gen_tokens):\n",
    "            # Get the predictions for the next tokens \n",
    "            preds, loss = self.forward(curr_tokens)\n",
    "            # Look only at the last time step\n",
    "            preds = preds[:, -1, :] # becomes (B, C)\n",
    "            # Normalize probabilities from 0 to 1 using softmax\n",
    "            probs = F.softmax(preds, dim=-1) # (B, C)\n",
    "            # Get the next token by sampling from the probability distribution\n",
    "            next_token = torch.multinomial(probs, num_samples=1) # (B, 1)\n",
    "            # Add the new token to the current tokens\n",
    "            curr_tokens = torch.cat((curr_tokens, next_token), dim=1) # (B, T+1)\n",
    "        return curr_tokens"
   ]
  },
  {
   "cell_type": "markdown",
   "metadata": {},
   "source": [
    "**GPT Model:**"
   ]
  },
  {
   "cell_type": "code",
   "execution_count": 163,
   "metadata": {},
   "outputs": [],
   "source": [
    "# GPT architecture \n",
    "class GPT(nn.Module):\n",
    "\n",
    "    def __init__(self, vocab_size, block_size, embd_dim, decoders):\n",
    "        super().__init__()\n",
    "        self.token_embedding_table = nn.Embedding(vocab_size, embd_dim)\n",
    "        self.position_embedding_table = nn.Embedding(block_size, embd_dim)\n",
    "\n",
    "        self.transformer_blocks = nn.TransformerDecoder(nn.TransformerDecoderLayer(d_model=embd_dim, nhead=12, dim_feedforward=3072, dropout=0.1), decoders, norm=None)\n",
    "        self.linear_layer = nn.Linear(embd_dim, vocab_size)\n",
    "        self.block_size = block_size\n",
    "\n",
    "    def forward(self, idx, targets=None):\n",
    "        # idx and targets are both (B,T) tensor of integers\n",
    "        B, T = idx.shape\n",
    "        logits = self.token_embedding_table(idx) # (B,T,C)\n",
    "        tok_emb = self.token_embedding_table(idx) # (B,T,C)\n",
    "        pos_emb = self.position_embedding_table(torch.arange(T, device=device)) # (T,C)\n",
    "        inputs = tok_emb + pos_emb # (B,T,C)\n",
    "        inputs = self.transformer_blocks(inputs, memory=torch.zeros_like(inputs))\n",
    "        logits = self.linear_layer(inputs)\n",
    "\n",
    "        if targets is None:\n",
    "            loss = None\n",
    "        else:\n",
    "            B, T, C = logits.shape\n",
    "            logits = logits.view(B*T, C)\n",
    "            targets = targets.view(B*T)\n",
    "            loss = F.cross_entropy(logits, targets)\n",
    "\n",
    "        return logits, loss\n",
    "\n",
    "    # Generate num_gen_tokens more tokens given the current tokens in curr_tokens\n",
    "    def generate(self, curr_tokens, num_gen_tokens):\n",
    "        for _ in range(num_gen_tokens):\n",
    "            curr_tokens_cond = curr_tokens[:, -self.block_size:]\n",
    "            # Get the predictions for the next tokens \n",
    "            preds, loss = self.forward(curr_tokens_cond)\n",
    "            # Look only at the last time step\n",
    "            preds = preds[:, -1, :] # becomes (B, C)\n",
    "            # Normalize probabilities from 0 to 1 using softmax\n",
    "            probs = F.softmax(preds, dim=-1) # (B, C)\n",
    "            # Get the next token by sampling from the probability distribution\n",
    "            next_token = torch.multinomial(probs, num_samples=1) # (B, 1)\n",
    "            # Add the new token to the current tokens\n",
    "            curr_tokens = torch.cat((curr_tokens, next_token), dim=1) # (B, T+1)\n",
    "        return curr_tokens"
   ]
  },
  {
   "cell_type": "markdown",
   "metadata": {},
   "source": [
    "**Data Preprocessing**\n",
    "\n",
    "Create a custom tokenizer using the HuggingFace Tokenizer package. Then encode the data, convert it into a PyTorch tensor, and split it up into validation data and training data."
   ]
  },
  {
   "cell_type": "code",
   "execution_count": 169,
   "metadata": {},
   "outputs": [
    {
     "name": "stdout",
     "output_type": "stream",
     "text": [
      "\n",
      "\n",
      "\n"
     ]
    }
   ],
   "source": [
    "# Create the tokenizer \n",
    "tokenizer = Tokenizer(BPE(unk_token=\"[UNK]\")) \n",
    "tokenizer.pre_tokenizer = pre_tokenizers.Sequence([pre_tokenizers.Punctuation(\"isolated\"), pre_tokenizers.Split(\"\\n\", \"isolated\"), pre_tokenizers.Split(\" \", \"isolated\")])\n",
    "trainer = BpeTrainer(vocab_size=VOCAB_SIZE)\n",
    "tokenizer.decoder = BPEDecoder()\n",
    "tokenizer.train([\"tinyshakespeare.txt\"], trainer)\n",
    "tokenizer.save(\"tinyshakespeare_tokenizer.json\")\n",
    "\n",
    "# Tokenize the data\n",
    "tokenizer = Tokenizer.from_file(\"tinyshakespeare_tokenizer.json\")\n",
    "tokenized_data = tokenizer.encode(raw_data).ids\n",
    "# Convert into a pytorch tensor\n",
    "tensor_data = torch.tensor(tokenized_data, dtype=torch.long)\n",
    "\n",
    "# Split into training and validation sets\n",
    "train_end = int(len(tensor_data)*TRAIN_PCT)\n",
    "training_data = tensor_data[:train_end]\n",
    "validation_data = tensor_data[train_end:]"
   ]
  },
  {
   "cell_type": "markdown",
   "metadata": {},
   "source": [
    "**Train the Bigram model:**"
   ]
  },
  {
   "cell_type": "code",
   "execution_count": 179,
   "metadata": {},
   "outputs": [
    {
     "name": "stdout",
     "output_type": "stream",
     "text": [
      "iter 0: loss = 7.758975505828857\n",
      "estimated train loss: 7.77752161026001, estimated validation loss: 7.758004188537598\n",
      "iter 100: loss = 7.788924694061279\n",
      "estimated train loss: 7.770000457763672, estimated validation loss: 7.758892059326172\n",
      "iter 200: loss = 7.861291885375977\n",
      "estimated train loss: 7.771902084350586, estimated validation loss: 7.759644508361816\n",
      "iter 300: loss = 7.7389936447143555\n",
      "estimated train loss: 7.774221420288086, estimated validation loss: 7.7487711906433105\n",
      "iter 400: loss = 7.741376876831055\n",
      "estimated train loss: 7.772937297821045, estimated validation loss: 7.751832485198975\n",
      "iter 500: loss = 7.671847820281982\n",
      "estimated train loss: 7.760775566101074, estimated validation loss: 7.750875949859619\n",
      "iter 600: loss = 7.755975723266602\n",
      "estimated train loss: 7.766278266906738, estimated validation loss: 7.745057106018066\n",
      "iter 700: loss = 7.699438571929932\n",
      "estimated train loss: 7.7598347663879395, estimated validation loss: 7.746364593505859\n",
      "iter 800: loss = 7.764548301696777\n",
      "estimated train loss: 7.758568286895752, estimated validation loss: 7.7402801513671875\n",
      "iter 900: loss = 7.765203952789307\n",
      "estimated train loss: 7.760614395141602, estimated validation loss: 7.742448329925537\n",
      "iter 999: loss = 7.825736045837402\n",
      "estimated train loss: 7.755494117736816, estimated validation loss: 7.744165420532227\n"
     ]
    }
   ],
   "source": [
    "bigram_model = BigramLanguageModel(VOCAB_SIZE).to(device)\n",
    "optimizer = torch.optim.AdamW(bigram_model.parameters(), lr=LR)\n",
    "bigram_model, bigram_train_loss, bigram_val_loss, bigram_iters = train_model(\n",
    "    training_data.to(device), validation_data.to(device), bigram_model, \"bigram_model\", optimizer, \n",
    "    max_iter=MAX_ITER, batch_size=BATCH_SIZE, block_size=BLOCK_SIZE\n",
    ")"
   ]
  },
  {
   "cell_type": "markdown",
   "metadata": {},
   "source": [
    "**Train the GPT Model:**"
   ]
  },
  {
   "cell_type": "code",
   "execution_count": 186,
   "metadata": {},
   "outputs": [
    {
     "name": "stdout",
     "output_type": "stream",
     "text": [
      "iter 0: loss = 7.364946365356445\n",
      "estimated train loss: 7.376828193664551, estimated validation loss: 7.378031253814697\n",
      "iter 100: loss = 5.3983540534973145\n",
      "estimated train loss: 5.409296989440918, estimated validation loss: 5.442699909210205\n",
      "iter 200: loss = 5.050347805023193\n",
      "estimated train loss: 5.006633281707764, estimated validation loss: 5.026335716247559\n",
      "iter 300: loss = 4.726116180419922\n",
      "estimated train loss: 4.7512102127075195, estimated validation loss: 4.7791876792907715\n",
      "iter 400: loss = 4.409371376037598\n",
      "estimated train loss: 4.577242851257324, estimated validation loss: 4.597731113433838\n",
      "iter 500: loss = 4.367351531982422\n",
      "estimated train loss: 4.453646183013916, estimated validation loss: 4.480511665344238\n",
      "iter 600: loss = 4.206412315368652\n",
      "estimated train loss: 4.333149433135986, estimated validation loss: 4.37640380859375\n",
      "iter 700: loss = 4.183528900146484\n",
      "estimated train loss: 4.280718803405762, estimated validation loss: 4.302505970001221\n",
      "iter 800: loss = 4.084472179412842\n",
      "estimated train loss: 4.2246575355529785, estimated validation loss: 4.2558817863464355\n",
      "iter 900: loss = 4.527981758117676\n",
      "estimated train loss: 4.162929058074951, estimated validation loss: 4.1970672607421875\n",
      "iter 999: loss = 4.373889446258545\n",
      "estimated train loss: 4.124725818634033, estimated validation loss: 4.156817436218262\n"
     ]
    }
   ],
   "source": [
    "gpt_model = GPT(VOCAB_SIZE, BLOCK_SIZE, EMBD_DIM, 1).to(device)\n",
    "optimizer = torch.optim.AdamW(gpt_model.parameters(), lr=LR)\n",
    "gpt_model, gpt_train_loss, gpt_val_loss, gpt_iters = train_model(\n",
    "    training_data.to(device), validation_data.to(device), gpt_model, \"gpt_model\", optimizer, \n",
    "    max_iter=MAX_ITER, batch_size=BATCH_SIZE, block_size=BLOCK_SIZE\n",
    ")"
   ]
  },
  {
   "cell_type": "code",
   "execution_count": 188,
   "metadata": {},
   "outputs": [
    {
     "name": "stdout",
     "output_type": "stream",
     "text": [
      "-------------------------------------\n",
      "Bigram model\n",
      "-------------------------------------\n",
      "[27, 1196, 16, 1175, 969, 356, 24, 1229, 451, 947, 454, 364, 185, 318, 110, 355, 357, 1058, 624, 888, 960, 612, 785, 93, 165, 629, 1193, 1063, 1258, 464, 1361, 1372, 1390, 52, 704, 1018, 36, 1128, 659, 82, 249, 187, 52, 1295, 1424, 285, 670, 770, 131, 682, 1032, 1387, 837, 487, 252, 270, 627, 533, 801, 960, 1012, 1128, 1024, 201, 985, 1264, 1063, 423, 258, 755, 1385, 438, 23, 114, 175, 1178, 1212, 1387, 1002, 549, 1293, 112, 1015, 1180, 1, 241, 212, 953, 1013, 193, 216, 1350, 1374, 205, 705, 879, 789, 735, 251, 967, 781]\n",
      "OyeDonestcompfriLGRUMIOGLOjestUCESInTorowrowordIfESCALThanwhywhosePETRUCHIOUnbeonemotherCLARENCEPrwornLordsinchildrencksnELLAaboutXTENclheICbynseenworthylikefoojoyalksKATHowsnatondselfIUSmyselfationhimselfwhosethousandTENgrerommeetPOMPreycanTAtoldlifeKweainbusinessholyowsHORAnSayliORDCOMINIUS frommoTRANIOANGELartESServingmanLAURENCEThatciousWARtwogusirvySha\n",
      "-------------------------------------\n",
      "GPT model\n",
      "-------------------------------------\n",
      "[27, 1, 122, 96, 1, 1425, 265, 1, 336, 10, 0, 660, 1, 470, 8, 0, 332, 1, 125, 401, 1, 80, 1, 1022, 73, 1, 232, 1, 323, 1, 1044, 228, 6, 52, 1, 278, 91, 1, 331, 1, 526, 550, 1408, 1, 5, 1, 1481, 1004, 1, 151, 5, 7, 414, 1, 801, 1, 1, 732, 1, 1044, 1, 765, 1, 39, 1, 142, 1414, 1, 64, 0, 960, 1250, 10, 1089, 514, 1, 1215, 1, 1252, 1, 116, 1039, 1, 1012, 1, 116, 44, 1326, 297, 1, 391, 1, 1195, 1, 70, 1, 473, 1163, 1, 801, 187]\n",
      "O withmy knownate too:\n",
      "Rich night.\n",
      "RO hisOf to CUen was ap cousinion,n ryit LA foDWUMBER ' lossles ess'-ster himself  JULIET cousin best a soID z\n",
      "whoseborn:unties common kiss thatover thousand thatfbloodypro God wind the fairtruth himselfby\n"
     ]
    }
   ],
   "source": [
    "starting_text = \"O Romeo, Romeo, wherefore art thou Romeo?\"\n",
    "starting_tokens = tokenizer.encode(starting_text).ids\n",
    "starting_tokens = torch.tensor(starting_tokens, dtype=torch.long).reshape(-1,1)\n",
    "\n",
    "print(\"-------------------------------------\")\n",
    "print(\"Bigram model\")\n",
    "print(\"-------------------------------------\")\n",
    "gen_tokens = bigram_model.generate(curr_tokens = starting_tokens.to(device), num_gen_tokens = 100)[0].tolist()\n",
    "print(gen_tokens)\n",
    "print(tokenizer.decode(gen_tokens))\n",
    "\n",
    "print(\"-------------------------------------\")\n",
    "print(\"GPT model\")\n",
    "print(\"-------------------------------------\")\n",
    "gen_tokens = gpt_model.generate(curr_tokens = starting_tokens.to(device), num_gen_tokens = 100)[0].tolist()\n",
    "print(gen_tokens)\n",
    "print(tokenizer.decode(gen_tokens))"
   ]
  },
  {
   "cell_type": "markdown",
   "metadata": {},
   "source": [
    "**Plot the training loss and the validation loss for each iteration:**"
   ]
  },
  {
   "cell_type": "code",
   "execution_count": 189,
   "metadata": {},
   "outputs": [
    {
     "data": {
      "image/png": "[encoded data removed]",
      "text/plain": [
       "<Figure size 1000x500 with 1 Axes>"
      ]
     },
     "metadata": {},
     "output_type": "display_data"
    }
   ],
   "source": [
    "plt.figure(figsize=(10, 5))\n",
    "plt.plot(bigram_iters, bigram_train_loss, label=\"Bigram Training Loss\", color=\"blue\", linestyle=\"--\")\n",
    "plt.plot(bigram_iters, bigram_val_loss, label=\"Bigram Validation Loss\", color=\"red\", linestyle=\"--\")\n",
    "plt.plot(gpt_iters, gpt_train_loss, label=\"GPT Training Loss\", color=\"blue\", linestyle=\"-\")\n",
    "plt.plot(gpt_iters, gpt_val_loss, label=\"GPT Validation Loss\", color=\"red\", linestyle=\"-\")\n",
    "\n",
    "# Labels and title\n",
    "plt.xlabel(\"Iterations\")\n",
    "plt.ylabel(\"Estimated Cross Entropy Loss\")\n",
    "plt.title(\"Training vs Validation Loss\")\n",
    "plt.legend()\n",
    "plt.grid(True)\n",
    "\n",
    "# Show the plot\n",
    "plt.show()"
   ]
  }
 ],
 "metadata": {
  "kernelspec": {
   "display_name": "Python (BML_GPT_mac)",
   "language": "python",
   "name": "bml_gpt_mac"
  },
  "language_info": {
   "codemirror_mode": {
    "name": "ipython",
    "version": 3
   },
   "file_extension": ".py",
   "mimetype": "text/x-python",
   "name": "python",
   "nbconvert_exporter": "python",
   "pygments_lexer": "ipython3",
   "version": "3.12.9"
  }
 },
 "nbformat": 4,
 "nbformat_minor": 2
}
