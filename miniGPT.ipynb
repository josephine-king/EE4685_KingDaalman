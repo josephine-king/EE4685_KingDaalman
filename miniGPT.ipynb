{
 "cells": [
  {
   "cell_type": "markdown",
   "metadata": {},
   "source": [
    "**EE4685 Assignment 2: Building a miniGPT** by Josephine King and Alec Daalman\n",
    "\n",
    "**References:**\n",
    "- \"Let's build GPT: from scratch, in code, spelled out.\" Youtube tutorial by Andrej Karpathy. https://www.youtube.com/watch?v=kCc8FmEb1nY\n"
   ]
  },
  {
   "cell_type": "code",
   "execution_count": null,
   "metadata": {},
   "outputs": [
    {
     "name": "stdout",
     "output_type": "stream",
     "text": [
      "--2025-03-04 12:23:03--  https://raw.githubusercontent.com/karpathy/char-rnn/master/data/tinyshakespeare/input.txt\n",
      "Resolving raw.githubusercontent.com (raw.githubusercontent.com)... 185.199.110.133, 185.199.108.133, 185.199.109.133, ...\n",
      "Connecting to raw.githubusercontent.com (raw.githubusercontent.com)|185.199.110.133|:443... connected.\n",
      "HTTP request sent, awaiting response... 200 OK\n",
      "Length: 1115394 (1.1M) [text/plain]\n",
      "Saving to: ‘tinyshakespeare.txt’\n",
      "\n",
      "tinyshakespeare.txt 100%[===================>]   1.06M  --.-KB/s    in 0.1s    \n",
      "\n",
      "2025-03-04 12:23:03 (7.25 MB/s) - ‘tinyshakespeare.txt’ saved [1115394/1115394]\n",
      "\n"
     ]
    }
   ],
   "source": [
    "# Import packages\n",
    "import tiktoken\n",
    "import torch\n",
    "import torch.nn as nn\n",
    "from torch.nn import functional as F\n",
    "\n",
    "# Install and open the TinyShakespeare dataset\n",
    "!wget -O tinyshakespeare.txt https://raw.githubusercontent.com/karpathy/char-rnn/master/data/tinyshakespeare/input.txt\n",
    "with open('tinyshakespeare.txt', 'r', encoding='utf-8') as f: raw_data = f.read()\n",
    "\n",
    "# Set the seed\n",
    "torch.manual_seed(6250513)\n",
    "\n",
    "# Initialize some model parameters\n",
    "train_pct = 0.8\n",
    "block_size = 8\n",
    "batch_size = 4\n"
   ]
  },
  {
   "cell_type": "markdown",
   "metadata": {},
   "source": [
    "Encode the data and convert it into a PyTorch tensor. Then split into training and validation sets."
   ]
  },
  {
   "cell_type": "code",
   "execution_count": 22,
   "metadata": {},
   "outputs": [],
   "source": [
    "# Tokenize the data using the gpt2 encoding model\n",
    "enc = tiktoken.get_encoding(\"gpt2\")\n",
    "tokenized_data = enc.encode(raw_data)\n",
    "# Convert into a pytorch tensor\n",
    "tensor_data = torch.tensor(tokenized_data, dtype=torch.long)\n",
    "\n",
    "# Split into training and validation sets\n",
    "train_end = int(len(tensor_data)*train_pct)\n",
    "train_data = tensor_data[:train_end]\n",
    "validation_data = tensor_data[train_end:]"
   ]
  },
  {
   "cell_type": "markdown",
   "metadata": {},
   "source": [
    "Function get_batch takes in the data, batch_size, and block_size, and returns the input and output batches."
   ]
  },
  {
   "cell_type": "code",
   "execution_count": null,
   "metadata": {},
   "outputs": [
    {
     "name": "stdout",
     "output_type": "stream",
     "text": [
      "tensor([[ 1199,   577,   387,  6724,   774,  4437,    11,  8539],\n",
      "        [ 6665,   284, 15403,   866,   198,  2202,  8208, 15222],\n",
      "        [21140,  4252,     0,   198,  2437,   880, 22960,   340],\n",
      "        [  198, 22073,   345,    11,   616, 15876,    11,   428]])\n",
      "tensor([[  577,   387,  6724,   774,  4437,    11,  8539,   276],\n",
      "        [  284, 15403,   866,   198,  2202,  8208, 15222,  7021],\n",
      "        [ 4252,     0,   198,  2437,   880, 22960,   340,   262],\n",
      "        [22073,   345,    11,   616, 15876,    11,   428,  1310]])\n"
     ]
    }
   ],
   "source": [
    "def get_batch(data, batch_size, block_size):\n",
    "    # Choose batch_size random starting points\n",
    "    block_starts = torch.randint(0, len(data) - block_size, (batch_size,))\n",
    "    # Get the inputs and outputs for the chosen blocks, stack them into tensors\n",
    "    batch_inputs = torch.stack([data[start: start + block_size] for start in block_starts])\n",
    "    batch_outputs = torch.stack([data[start + 1: start + block_size + 1] for start in block_starts])\n",
    "    return batch_inputs, batch_outputs\n",
    "\n",
    "inputs, outputs = get_batch(train_data, batch_size, block_size)\n",
    "print(inputs)\n",
    "print(outputs)\n"
   ]
  }
 ],
 "metadata": {
  "kernelspec": {
   "display_name": "Python (BML_GPT)",
   "language": "python",
   "name": "bml_gpt"
  },
  "language_info": {
   "codemirror_mode": {
    "name": "ipython",
    "version": 3
   },
   "file_extension": ".py",
   "mimetype": "text/x-python",
   "name": "python",
   "nbconvert_exporter": "python",
   "pygments_lexer": "ipython3",
   "version": "3.12.9"
  }
 },
 "nbformat": 4,
 "nbformat_minor": 2
}
