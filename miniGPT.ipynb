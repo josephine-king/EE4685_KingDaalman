{
 "cells": [
  {
   "cell_type": "markdown",
   "metadata": {},
   "source": [
    "**EE4685 Assignment 2: Building a miniGPT** by Josephine King and Alec Daalman\n",
    "\n",
    "**References:**\n",
    "- \"Let's build GPT: from scratch, in code, spelled out.\" Youtube tutorial by Andrej Karpathy. https://www.youtube.com/watch?v=kCc8FmEb1nY\n",
    "- HuggingFace Tokenizer developer guides. https://huggingface.co/docs/transformers/en/notebooks\n"
   ]
  },
  {
   "cell_type": "code",
   "execution_count": null,
   "metadata": {},
   "outputs": [
    {
     "name": "stdout",
     "output_type": "stream",
     "text": [
      "Using device cuda:0\n"
     ]
    },
    {
     "name": "stderr",
     "output_type": "stream",
     "text": [
      "'wget' is not recognized as an internal or external command,\n",
      "operable program or batch file.\n"
     ]
    }
   ],
   "source": [
    "# Import packages\n",
    "import os\n",
    "import json\n",
    "from tqdm.notebook import tqdm\n",
    "import tiktoken\n",
    "import torch\n",
    "import torch.nn as nn\n",
    "from torch.nn import functional as F\n",
    "import torch.utils.data as data\n",
    "from tokenizers import Tokenizer, pre_tokenizers\n",
    "from tokenizers.models import BPE\n",
    "from tokenizers.trainers import BpeTrainer\n",
    "from tokenizers.decoders import BPEDecoder\n",
    "from tokenizers.pre_tokenizers import Whitespace\n",
    "import matplotlib.pyplot as plt\n",
    "from IPython.display import clear_output\n",
    "import numpy as np\n",
    "from torchmetrics.text import Perplexity\n",
    "from transformers import GPT2Tokenizer\n",
    "\n",
    "# Setup\n",
    "torch.manual_seed(6250513)\n",
    "device = 'cuda' if torch.cuda.is_available() else 'cpu'\n",
    "CHECKPOINT_PATH = \"./saved_models2/\"\n",
    "device = torch.device(\"cpu\") if not torch.cuda.is_available() else torch.device(\"cuda:0\")\n",
    "print(\"Using device\", device)\n",
    "\n",
    "# Initialize model parameters\n",
    "TRAIN_PCT = 0.8\n",
    "BLOCK_SIZE = 64\n",
    "BATCH_SIZE = 32\n",
    "MAX_ITER = 1500\n",
    "VOCAB_SIZE = 3000\n",
    "EMBD_DIM = 192\n",
    "NUM_DECODERS = 5\n",
    "NUM_HEADS = 12\n",
    "LR = 2.5e-5\n",
    "\n",
    "# Download the TinyShakespeare dataset\n",
    "!wget -O tinyshakespeare.txt https://raw.githubusercontent.com/karpathy/char-rnn/master/data/tinyshakespeare/input.txt\n",
    "with open('tinyshakespeare.txt', 'r', encoding='utf-8') as f: raw_data = f.read()\n"
   ]
  },
  {
   "cell_type": "markdown",
   "metadata": {},
   "source": [
    "**Bigram Model:**"
   ]
  },
  {
   "cell_type": "code",
   "execution_count": 21,
   "metadata": {},
   "outputs": [],
   "source": [
    "# Copied from Karpathy's tutorial\n",
    "class BigramLanguageModel(nn.Module):\n",
    "\n",
    "    def __init__(self, vocab_size):\n",
    "        super().__init__()\n",
    "        # each token directly reads off the logits for the next token from a lookup table\n",
    "        self.token_embedding_table = nn.Embedding(vocab_size, vocab_size)\n",
    "\n",
    "    def forward(self, idx, targets=None):\n",
    "        # idx and targets are both (B,T) tensor of integers\n",
    "        logits = self.token_embedding_table(idx) # (B,T,C)\n",
    "\n",
    "        if targets is None:\n",
    "            loss = None\n",
    "        else:\n",
    "            B, T, C = logits.shape\n",
    "            logits = logits.view(B*T, C)\n",
    "            targets = targets.view(B*T)\n",
    "            loss = F.cross_entropy(logits, targets)\n",
    "\n",
    "        return logits, loss\n",
    "\n",
    "    # Generate num_gen_tokens more tokens given the current tokens in curr_tokens\n",
    "    def generate(self, curr_tokens, num_gen_tokens):\n",
    "        for _ in range(num_gen_tokens):\n",
    "            # Get the predictions for the next tokens \n",
    "            preds, loss = self.forward(curr_tokens)\n",
    "            # Look only at the last time step\n",
    "            preds = preds[:, -1, :] # becomes (B, C)\n",
    "            # Normalize probabilities from 0 to 1 using softmax\n",
    "            probs = F.softmax(preds, dim=-1) # (B, C)\n",
    "            # Get the next token by sampling from the probability distribution\n",
    "            next_token = torch.multinomial(probs, num_samples=1) # (B, 1)\n",
    "            # Add the new token to the current tokens\n",
    "            curr_tokens = torch.cat((curr_tokens, next_token), dim=1) # (B, T+1)\n",
    "        return curr_tokens"
   ]
  },
  {
   "cell_type": "markdown",
   "metadata": {},
   "source": [
    "**GPT Model:**"
   ]
  },
  {
   "cell_type": "code",
   "execution_count": 22,
   "metadata": {},
   "outputs": [],
   "source": [
    "# GPT architecture \n",
    "class GPT(nn.Module):\n",
    "\n",
    "    def __init__(self, vocab_size, block_size, batch_size, embd_dim, decoders, num_heads):\n",
    "        super().__init__()\n",
    "        self.token_embedding_table = nn.Embedding(vocab_size, embd_dim)\n",
    "        self.position_embedding_table = nn.Embedding(block_size, embd_dim)\n",
    "\n",
    "        self.transformer_blocks = nn.TransformerDecoder(nn.TransformerDecoderLayer(d_model=embd_dim, nhead=num_heads, dim_feedforward=3072, dropout=0.1), decoders, norm=None)\n",
    "        self.linear_layer = nn.Linear(embd_dim, vocab_size)\n",
    "        self.block_size = block_size\n",
    "\n",
    "        self.config = {\"vocab_size\": vocab_size, \"block_size\": block_size, \"batch_size\": batch_size, \"embd_dim\": embd_dim, \"decoders\": decoders, \"num_heads\": num_heads}\n",
    "\n",
    "    def forward(self, idx, targets=None):\n",
    "        # idx and targets are both (B,T) tensor of integers\n",
    "        B, T = idx.shape\n",
    "        logits = self.token_embedding_table(idx) # (B,T,C)\n",
    "        tok_emb = self.token_embedding_table(idx) # (B,T,C)\n",
    "        pos_emb = self.position_embedding_table(torch.arange(T, device=device)) # (T,C)\n",
    "        inputs = tok_emb + pos_emb # (B,T,C)\n",
    "        inputs = self.transformer_blocks(inputs, memory=torch.zeros_like(inputs))\n",
    "        logits = self.linear_layer(inputs)\n",
    "\n",
    "        if targets is None:\n",
    "            loss = None\n",
    "        else:\n",
    "            B, T, C = logits.shape\n",
    "            logits = logits.view(B*T, C)\n",
    "            targets = targets.view(B*T)\n",
    "            loss = F.cross_entropy(logits, targets)\n",
    "\n",
    "        return logits, loss\n",
    "\n",
    "    # Generate num_gen_tokens more tokens given the current tokens in curr_tokens\n",
    "    def generate(self, curr_tokens, num_gen_tokens):\n",
    "        for _ in range(num_gen_tokens):\n",
    "            curr_tokens_cond = curr_tokens[:, -self.block_size:]\n",
    "            # Get the predictions for the next tokens \n",
    "            preds, loss = self.forward(curr_tokens_cond)\n",
    "            # Look only at the last time step\n",
    "            preds = preds[:, -1, :] # becomes (B, C)\n",
    "            # Normalize probabilities from 0 to 1 using softmax\n",
    "            probs = F.softmax(preds, dim=-1) # (B, C)\n",
    "            # Get the next token by sampling from the probability distribution\n",
    "            next_token = torch.multinomial(probs, num_samples=1) # (B, 1)\n",
    "            # Add the new token to the current tokens\n",
    "            curr_tokens = torch.cat((curr_tokens, next_token), dim=1) # (B, T+1)\n",
    "        return curr_tokens"
   ]
  },
  {
   "cell_type": "markdown",
   "metadata": {},
   "source": [
    "**Model Evaluation Functions:**"
   ]
  },
  {
   "cell_type": "code",
   "execution_count": 23,
   "metadata": {},
   "outputs": [],
   "source": [
    "def estimate_loss(model, data, batch_size, block_size, iters):\n",
    "    out = {}\n",
    "    model.eval()\n",
    "    losses = torch.zeros(iters)\n",
    "    for k in range(iters):\n",
    "        inputs, outputs = get_batch(data, batch_size, block_size)\n",
    "        with torch.no_grad():\n",
    "            logits, loss = model(inputs, outputs)\n",
    "        losses[k] = loss.item()\n",
    "    mean_loss = losses.mean()\n",
    "    model.train()\n",
    "    return mean_loss\n",
    "\n",
    "def calculate_perplexity(model, validation_data, num_batch, batch_size, block_size):\n",
    "    perplexities = []\n",
    "    for i in range(0, num_batch):\n",
    "        inputs, outputs = get_batch(validation_data, batch_size, block_size)\n",
    "        with torch.no_grad():\n",
    "            logits, loss = model(inputs)\n",
    "\n",
    "        perplexity = Perplexity().to(device)\n",
    "        score = perplexity(preds=logits[:, :-1], target=inputs[:, 1:]) \n",
    "        perplexities.append(score.item())\n",
    "\n",
    "    return np.mean(perplexities)"
   ]
  },
  {
   "cell_type": "markdown",
   "metadata": {},
   "source": [
    "**Model Training Functions:**"
   ]
  },
  {
   "cell_type": "code",
   "execution_count": 24,
   "metadata": {},
   "outputs": [],
   "source": [
    "def get_batch(data, batch_size, block_size):\n",
    "    # Choose batch_size random starting points\n",
    "    block_starts = torch.randint(0, len(data) - block_size, (batch_size,))\n",
    "    # Get the inputs and outputs for the chosen blocks, stack them into tensors\n",
    "    batch_inputs = torch.stack([data[start: start + block_size] for start in block_starts])\n",
    "    batch_outputs = torch.stack([data[start + 1: start + block_size + 1] for start in block_starts])\n",
    "    return batch_inputs, batch_outputs\n",
    "\n",
    "# The following functions are adapted from the optimization exercise \n",
    "def _get_config_file(model_path, model_name):\n",
    "    return os.path.join(model_path, model_name + \".config\")\n",
    "\n",
    "def _get_model_file(model_path, model_name):\n",
    "    return os.path.join(model_path, model_name + \".tar\")\n",
    "\n",
    "def _get_result_file(model_path, model_name):\n",
    "    return os.path.join(model_path, model_name + \"_results.json\")\n",
    "\n",
    "def save_model(model, model_path, model_name, model_result):\n",
    "    config_dict = model.config\n",
    "    os.makedirs(model_path, exist_ok=True)\n",
    "    config_file, model_file, result_file = _get_config_file(model_path, model_name), _get_model_file(model_path, model_name), _get_result_file(model_path, model_name)\n",
    "    with open(config_file, \"w\") as f:\n",
    "        json.dump(config_dict, f)\n",
    "    with open(result_file, \"w\") as f:\n",
    "        json.dump(model_result, f)\n",
    "    torch.save(model.state_dict(), model_file)\n",
    "\n",
    "def load_model(model_path, model_name):\n",
    "    config_file, model_file, result_file = _get_config_file(model_path, model_name), _get_model_file(model_path, model_name), _get_result_file(model_path, model_name)\n",
    "    with open(config_file, \"r\") as f:\n",
    "        config_dict = json.load(f)\n",
    "\n",
    "    model = GPT(config_dict[\"vocab_size\"], config_dict[\"block_size\"], config_dict[\"batch_size\"], config_dict[\"embd_dim\"], config_dict[\"decoders\"], config_dict[\"num_heads\"])\n",
    "    model.load_state_dict(torch.load(model_file, map_location=torch.device(device)))    \n",
    "    \n",
    "    with open(result_file, \"r\") as f:\n",
    "        model_result = json.load(f)\n",
    "\n",
    "    return model, model_result\n",
    "\n",
    "def train_model(train_set, validation_set, model, model_name, optimizer, max_iter=1000, batch_size=256, block_size=32, overwrite=False, savemodel=False):\n",
    "    \"\"\"\n",
    "    Train a model on the training set of FashionMNIST\n",
    "\n",
    "    Inputs:\n",
    "        train_set - Training dataset\n",
    "        validation_set - Validation dataset\n",
    "        model - nn.Module object\n",
    "        model_name - Name of the model\n",
    "        max_iter - Number of iterations we want to (maximally) train for\n",
    "        batch_size - Size of batches used in training\n",
    "        overwrite - Determines if we should overwrite pre-existing models\n",
    "        savemodel - Whether or not we should save the model to a file\n",
    "    \"\"\"\n",
    "    # Check if the model already exists\n",
    "    # If it does and we are not overwriting, load it from the file\n",
    "    # If it doesn't, train the model\n",
    "    file_exists = os.path.isfile(_get_model_file(CHECKPOINT_PATH, model_name))\n",
    "    if file_exists and not overwrite:\n",
    "        print(f\"Model file of \\\"{model_name}\\\" already exists. Skipping training...\")\n",
    "        model, results = load_model(CHECKPOINT_PATH, model_name)\n",
    "    else:\n",
    "        if file_exists:\n",
    "            print(\"Model file exists, but will be overwritten...\")\n",
    "\n",
    "        # Training the model\n",
    "        training_losses = []\n",
    "        validation_losses = []\n",
    "        iters = []\n",
    "        results = {}\n",
    "        model.train()\n",
    "        for iter in range(max_iter):\n",
    "            inputs, outputs = get_batch(train_set, batch_size, block_size)\n",
    "            inputs, outputs = inputs.to(device), outputs.to(device)\n",
    "            optimizer.zero_grad()\n",
    "            preds,loss = model(inputs, outputs)\n",
    "\n",
    "            # Printing \n",
    "            if iter % 500 == 0 or iter == max_iter - 1:\n",
    "                print(f\"iter {iter}: loss = {loss}\")\n",
    "\n",
    "            # Estimate and save the training loss and validation loss\n",
    "            if (iter % 100 == 0):\n",
    "                training_loss = estimate_loss(model, train_set, batch_size, block_size, 500)\n",
    "                validation_loss = estimate_loss(model, validation_set, batch_size, block_size, 500)\n",
    "                training_losses.append(training_loss.item())\n",
    "                validation_losses.append(validation_loss.item())\n",
    "                iters.append(iter)\n",
    "\n",
    "            loss.backward()\n",
    "            optimizer.step()\n",
    "\n",
    "        # Calculate the perplexity and save results to the dict\n",
    "        perplexity = calculate_perplexity(model, validation_set, 500, batch_size, block_size)\n",
    "        results[\"perplexity\"] = perplexity\n",
    "        results[\"iters\"] = iters\n",
    "        results[\"training_loss\"] = training_losses\n",
    "        results[\"validation_loss\"] = validation_losses\n",
    "\n",
    "        # Save the model to a file\n",
    "        if (savemodel):\n",
    "            save_model(model, CHECKPOINT_PATH, model_name, results)\n",
    "\n",
    "    return model, results"
   ]
  },
  {
   "cell_type": "markdown",
   "metadata": {},
   "source": [
    "**Data Preprocessing**\n",
    "\n",
    "Create a custom tokenizer using the HuggingFace Tokenizer package. Then encode the data, convert it into a PyTorch tensor, and split it up into validation data and training data."
   ]
  },
  {
   "cell_type": "code",
   "execution_count": 25,
   "metadata": {},
   "outputs": [],
   "source": [
    "# Create the tokenizer \n",
    "def train_tokenizer(train_file_name, save_file_name, vocab_size):\n",
    "    tokenizer = Tokenizer(BPE(unk_token=\"[UNK]\")) \n",
    "    tokenizer.pre_tokenizer = pre_tokenizers.Sequence([pre_tokenizers.Punctuation(\"isolated\"), pre_tokenizers.Split(\"\\n\", \"isolated\"), pre_tokenizers.Split(\" \", \"isolated\")])\n",
    "    trainer = BpeTrainer(vocab_size=vocab_size)\n",
    "    tokenizer.decoder = BPEDecoder()\n",
    "    tokenizer.train([train_file_name], trainer)\n",
    "    tokenizer.save(save_file_name)\n",
    "    return tokenizer\n",
    "\n",
    "# Load a pre-existing tokenizer\n",
    "def load_tokenizer(file_name):\n",
    "    tokenizer = Tokenizer.from_file(file_name)\n",
    "\n",
    "# Tokenize the data\n",
    "def tokenize_data(tokenizer, raw_data, train_pct):\n",
    "    tokenized_data = tokenizer.encode(raw_data).ids\n",
    "    # Convert into a pytorch tensor\n",
    "    tensor_data = torch.tensor(tokenized_data, dtype=torch.long)\n",
    "    # Split into training and validation sets\n",
    "    train_end = int(len(tensor_data)*train_pct)\n",
    "    training_data = tensor_data[:train_end]\n",
    "    validation_data = tensor_data[train_end:]\n",
    "    return training_data, validation_data\n",
    "\n",
    "tokenizer = train_tokenizer(\"tinyshakespeare.txt\", \"tinyshakespeare_tokenizer.json\", VOCAB_SIZE)\n",
    "training_data, validation_data = tokenize_data(tokenizer, raw_data, TRAIN_PCT)"
   ]
  },
  {
   "cell_type": "markdown",
   "metadata": {},
   "source": [
    "**Train the Bigram model:**"
   ]
  },
  {
   "cell_type": "code",
   "execution_count": 26,
   "metadata": {},
   "outputs": [
    {
     "name": "stdout",
     "output_type": "stream",
     "text": [
      "iter 0: loss = 8.420774459838867\n",
      "iter 500: loss = 8.407878875732422\n",
      "iter 1000: loss = 8.356171607971191\n",
      "iter 1500: loss = 8.379570960998535\n",
      "iter 2000: loss = 8.334782600402832\n",
      "iter 2500: loss = 8.310978889465332\n",
      "iter 3000: loss = 8.284292221069336\n",
      "iter 3500: loss = 8.290769577026367\n",
      "iter 4000: loss = 8.265420913696289\n",
      "iter 4500: loss = 8.25284481048584\n",
      "iter 5000: loss = 8.247175216674805\n",
      "iter 5500: loss = 8.199153900146484\n",
      "iter 5999: loss = 8.20830249786377\n"
     ]
    }
   ],
   "source": [
    "bigram_model = BigramLanguageModel(VOCAB_SIZE).to(device)\n",
    "optimizer = torch.optim.AdamW(bigram_model.parameters(), lr=LR)\n",
    "bigram_model, bigram_results = train_model(\n",
    "    training_data.to(device), validation_data.to(device), bigram_model, \"bigram_model\", optimizer, \n",
    "    max_iter=MAX_ITER, batch_size=BATCH_SIZE, block_size=BLOCK_SIZE\n",
    ")"
   ]
  },
  {
   "cell_type": "markdown",
   "metadata": {},
   "source": [
    "**Train the GPT Model:**"
   ]
  },
  {
   "cell_type": "code",
   "execution_count": null,
   "metadata": {},
   "outputs": [
    {
     "name": "stdout",
     "output_type": "stream",
     "text": [
      "iter 0: loss = 7.935868740081787\n",
      "iter 500: loss = 4.323925018310547\n",
      "iter 1000: loss = 3.9283599853515625\n",
      "iter 1500: loss = 3.7304770946502686\n"
     ]
    }
   ],
   "source": [
    "model_name = f\"gpt_model_{VOCAB_SIZE}_{BLOCK_SIZE}_{BATCH_SIZE}_{EMBD_DIM}_{MAX_ITER}_{NUM_DECODERS}_{NUM_HEADS}\"\n",
    "gpt_model = GPT(VOCAB_SIZE, BLOCK_SIZE, BATCH_SIZE, EMBD_DIM, NUM_DECODERS, NUM_HEADS).to(device)\n",
    "optimizer = torch.optim.AdamW(gpt_model.parameters(), lr=LR)\n",
    "gpt_model, gpt_results = train_model(\n",
    "    training_data.to(device), validation_data.to(device), gpt_model, model_name, optimizer, \n",
    "    max_iter=MAX_ITER, batch_size=BATCH_SIZE, block_size=BLOCK_SIZE, overwrite=False, savemodel=True \n",
    ")\n"
   ]
  },
  {
   "cell_type": "code",
   "execution_count": 28,
   "metadata": {},
   "outputs": [
    {
     "name": "stdout",
     "output_type": "stream",
     "text": [
      "-------------------------------------\n",
      "Bigram model\n",
      "-------------------------------------\n",
      "[27, 818, 2388, 2675, 1332, 85, 1257, 2841, 1673, 1367, 2388, 728, 2389, 2110, 468, 640, 1631, 1337, 2784, 1155, 1139, 816, 1485, 1595, 2587, 1420, 1448, 144, 951, 1597, 2251, 2773, 2973, 2909, 1268, 729, 2277, 505, 562, 2993, 1215, 954, 1188, 1892, 2819, 2172, 2599, 1975, 716, 965, 2580, 1165, 2959, 1128, 898, 564, 353, 250, 1662, 1229, 1073, 2087, 106, 2683, 2245, 531, 281, 2020, 2449, 198, 1832, 379, 376, 91, 621, 2478, 2623, 2717, 738, 2447, 1409, 2845, 2423, 1156, 15, 507, 135, 1876, 1408, 1896, 2369, 1753, 1187, 316, 71, 1153, 668, 731, 1594, 986, 2715]\n",
      "OrendogstroEnglandnogodsgagedishmajestdogfordpestbitterRomeCORGentlemanGONelsmincorbessaysiedhnsadheavythisLAUIONyearidleitedcorseforcetillgreetHENRYoughsafetcommonBOLINGBROKEwantvelRATCLIFFportarmywoundskindbrialiveBAPTISTAwhisTENpleaseMENreatakBASTGRUMIOproveurchlddoorIELundencebriefenesscomebreatheULmariticedrunkWithinANTIGONprincewalkTHUMBERrayusurpsendCberENMakeUMBERedskerOPwomwhoorThidieLEONTESfurMARGARhumble\n",
      "-------------------------------------\n",
      "GPT model\n",
      "-------------------------------------\n",
      "[27, 1, 89, 1, 2247, 1, 1133, 1, 83, 1, 1073, 1, 93, 11, 96, 1, 2226, 1771, 6, 0, 1625, 1, 896, 1, 102, 1, 480, 1, 806, 1, 1777, 983, 1, 1518, 1, 80, 1, 1906, 1, 2462, 544, 1, 536, 1, 71, 1, 77, 6, 2468, 1, 1946, 1, 1363, 1, 668, 2004, 1160, 1, 2155, 0, 1798, 1, 624, 1, 2376, 1, 1146, 1, 273, 1, 838, 6, 1, 373, 1, 70, 1, 888, 7, 2347, 880, 2560, 202, 1, 503, 744, 1, 258, 1, 113, 1477, 2448, 1, 2972, 206, 860, 225, 1, 52, 1273, 1]\n",
      "O of Swe sure you prove be;my braceWel,\n",
      "work none as VINCENTIO LUCIO heavensfal wise to virtue concefl pray or st,quo frown together diesumrather GAUNT\n",
      "become Than seal country their thine, hand the why-naturalWICdoubleown emors can deingbrokeyond itestamasterble nLAND \n"
     ]
    }
   ],
   "source": [
    "starting_text = \"O Romeo, Romeo, wherefore art thou Romeo?\"\n",
    "starting_tokens = tokenizer.encode(starting_text).ids\n",
    "starting_tokens = torch.tensor(starting_tokens, dtype=torch.long).reshape(-1,1)\n",
    "\n",
    "print(\"-------------------------------------\")\n",
    "print(\"Bigram model\")\n",
    "print(\"-------------------------------------\")\n",
    "gen_tokens = bigram_model.generate(curr_tokens = starting_tokens.to(device), num_gen_tokens = 100)[0].tolist()\n",
    "print(gen_tokens)\n",
    "print(tokenizer.decode(gen_tokens))\n",
    "\n",
    "print(\"-------------------------------------\")\n",
    "print(\"GPT model\")\n",
    "print(\"-------------------------------------\")\n",
    "gen_tokens = gpt_model.generate(curr_tokens = starting_tokens.to(device), num_gen_tokens = 100)[0].tolist()\n",
    "print(gen_tokens)\n",
    "print(tokenizer.decode(gen_tokens))"
   ]
  },
  {
   "cell_type": "markdown",
   "metadata": {},
   "source": [
    "**Plot the training loss and the validation loss for each iteration:**"
   ]
  },
  {
   "cell_type": "code",
   "execution_count": 29,
   "metadata": {},
   "outputs": [
    {
     "ename": "NameError",
     "evalue": "name 'gpt_results' is not defined",
     "output_type": "error",
     "traceback": [
      "\u001b[31m---------------------------------------------------------------------------\u001b[39m",
      "\u001b[31mNameError\u001b[39m                                 Traceback (most recent call last)",
      "\u001b[36mCell\u001b[39m\u001b[36m \u001b[39m\u001b[32mIn[29]\u001b[39m\u001b[32m, line 4\u001b[39m\n\u001b[32m      2\u001b[39m plt.plot(bigram_results[\u001b[33m\"\u001b[39m\u001b[33miters\u001b[39m\u001b[33m\"\u001b[39m], bigram_results[\u001b[33m\"\u001b[39m\u001b[33mtraining_loss\u001b[39m\u001b[33m\"\u001b[39m], label=\u001b[33m\"\u001b[39m\u001b[33mBigram Training Loss\u001b[39m\u001b[33m\"\u001b[39m, color=\u001b[33m\"\u001b[39m\u001b[33mblue\u001b[39m\u001b[33m\"\u001b[39m, linestyle=\u001b[33m\"\u001b[39m\u001b[33m--\u001b[39m\u001b[33m\"\u001b[39m)\n\u001b[32m      3\u001b[39m plt.plot(bigram_results[\u001b[33m\"\u001b[39m\u001b[33miters\u001b[39m\u001b[33m\"\u001b[39m], bigram_results[\u001b[33m\"\u001b[39m\u001b[33mvalidation_loss\u001b[39m\u001b[33m\"\u001b[39m], label=\u001b[33m\"\u001b[39m\u001b[33mBigram Validation Loss\u001b[39m\u001b[33m\"\u001b[39m, color=\u001b[33m\"\u001b[39m\u001b[33mred\u001b[39m\u001b[33m\"\u001b[39m, linestyle=\u001b[33m\"\u001b[39m\u001b[33m--\u001b[39m\u001b[33m\"\u001b[39m)\n\u001b[32m----> \u001b[39m\u001b[32m4\u001b[39m plt.plot(\u001b[43mgpt_results\u001b[49m[\u001b[33m\"\u001b[39m\u001b[33miters\u001b[39m\u001b[33m\"\u001b[39m], gpt_results[\u001b[33m\"\u001b[39m\u001b[33mtraining_loss\u001b[39m\u001b[33m\"\u001b[39m], label=\u001b[33m\"\u001b[39m\u001b[33mGPT Training Loss\u001b[39m\u001b[33m\"\u001b[39m, color=\u001b[33m\"\u001b[39m\u001b[33mblue\u001b[39m\u001b[33m\"\u001b[39m, linestyle=\u001b[33m\"\u001b[39m\u001b[33m-\u001b[39m\u001b[33m\"\u001b[39m)\n\u001b[32m      5\u001b[39m plt.plot(gpt_results[\u001b[33m\"\u001b[39m\u001b[33miters\u001b[39m\u001b[33m\"\u001b[39m], gpt_results[\u001b[33m\"\u001b[39m\u001b[33mvalidation_loss\u001b[39m\u001b[33m\"\u001b[39m], label=\u001b[33m\"\u001b[39m\u001b[33mGPT Validation Loss\u001b[39m\u001b[33m\"\u001b[39m, color=\u001b[33m\"\u001b[39m\u001b[33mred\u001b[39m\u001b[33m\"\u001b[39m, linestyle=\u001b[33m\"\u001b[39m\u001b[33m-\u001b[39m\u001b[33m\"\u001b[39m)\n\u001b[32m      7\u001b[39m \u001b[38;5;66;03m# Labels and title\u001b[39;00m\n",
      "\u001b[31mNameError\u001b[39m: name 'gpt_results' is not defined"
     ]
    },
    {
     "data": {
      "image/png": "[encoded data removed]",
      "text/plain": [
       "<Figure size 1000x500 with 1 Axes>"
      ]
     },
     "metadata": {},
     "output_type": "display_data"
    }
   ],
   "source": [
    "plt.figure(figsize=(10, 5))\n",
    "plt.plot(bigram_results[\"iters\"], bigram_results[\"training_loss\"], label=\"Bigram Training Loss\", color=\"blue\", linestyle=\"--\")\n",
    "plt.plot(bigram_results[\"iters\"], bigram_results[\"validation_loss\"], label=\"Bigram Validation Loss\", color=\"red\", linestyle=\"--\")\n",
    "plt.plot(gpt_results[\"iters\"], gpt_results[\"training_loss\"], label=\"GPT Training Loss\", color=\"blue\", linestyle=\"-\")\n",
    "plt.plot(gpt_results[\"iters\"], gpt_results[\"validation_loss\"], label=\"GPT Validation Loss\", color=\"red\", linestyle=\"-\")\n",
    "\n",
    "# Labels and title\n",
    "plt.xlabel(\"Iterations\")\n",
    "plt.ylabel(\"Estimated Cross Entropy Loss\")\n",
    "plt.title(\"Training vs Validation Loss\")\n",
    "plt.legend()\n",
    "plt.grid(True)\n",
    "\n",
    "# Show the plot\n",
    "plt.show()"
   ]
  },
  {
   "cell_type": "markdown",
   "metadata": {},
   "source": [
    "**Perform a grid search to find the best parameters:**"
   ]
  },
  {
   "cell_type": "code",
   "execution_count": null,
   "metadata": {},
   "outputs": [
    {
     "name": "stdout",
     "output_type": "stream",
     "text": [
      "\n",
      "\n",
      "\n",
      "Training model gpt_model_1500_8_32_24_2000_6_12\n",
      "Model file of \"gpt_model_1500_8_32_24_2000_6_12\" already exists. Skipping training...\n",
      "Model0 perplexity is: 201.2358702697754\n",
      "Training model gpt_model_1500_8_32_24_2000_12_12\n",
      "Model file of \"gpt_model_1500_8_32_24_2000_12_12\" already exists. Skipping training...\n",
      "Model1 perplexity is: 198.89654336547852\n",
      "Training model gpt_model_1500_8_32_48_2000_6_12\n",
      "Model file of \"gpt_model_1500_8_32_48_2000_6_12\" already exists. Skipping training...\n",
      "Model2 perplexity is: 89.22371969604492\n",
      "Training model gpt_model_1500_8_32_48_2000_12_12\n",
      "Model file of \"gpt_model_1500_8_32_48_2000_12_12\" already exists. Skipping training...\n",
      "Model3 perplexity is: 99.56676547241211\n",
      "Training model gpt_model_1500_8_32_96_2000_6_12\n",
      "Model file of \"gpt_model_1500_8_32_96_2000_6_12\" already exists. Skipping training...\n",
      "Model4 perplexity is: 61.11876518249512\n",
      "Training model gpt_model_1500_8_32_96_2000_12_12\n",
      "Model file of \"gpt_model_1500_8_32_96_2000_12_12\" already exists. Skipping training...\n",
      "Model5 perplexity is: 62.00362856292725\n",
      "Training model gpt_model_1500_8_64_24_2000_6_12\n",
      "Model file of \"gpt_model_1500_8_64_24_2000_6_12\" already exists. Skipping training...\n",
      "Model6 perplexity is: 214.22317379760742\n",
      "Training model gpt_model_1500_8_64_24_2000_12_12\n",
      "Model file of \"gpt_model_1500_8_64_24_2000_12_12\" already exists. Skipping training...\n",
      "Model7 perplexity is: 202.79811022949218\n",
      "Training model gpt_model_1500_8_64_48_2000_6_12\n",
      "Model file of \"gpt_model_1500_8_64_48_2000_6_12\" already exists. Skipping training...\n",
      "Model8 perplexity is: 88.68495819091797\n",
      "Training model gpt_model_1500_8_64_48_2000_12_12\n",
      "Model file of \"gpt_model_1500_8_64_48_2000_12_12\" already exists. Skipping training...\n",
      "Model9 perplexity is: 87.06414735412598\n",
      "Training model gpt_model_1500_8_64_96_2000_6_12\n",
      "Model file of \"gpt_model_1500_8_64_96_2000_6_12\" already exists. Skipping training...\n",
      "Model10 perplexity is: 58.507169021606444\n",
      "Training model gpt_model_1500_8_64_96_2000_12_12\n",
      "iter 0: loss = 7.479243278503418\n"
     ]
    },
    {
     "ename": "KeyboardInterrupt",
     "evalue": "",
     "output_type": "error",
     "traceback": [
      "\u001b[31m---------------------------------------------------------------------------\u001b[39m",
      "\u001b[31mKeyboardInterrupt\u001b[39m                         Traceback (most recent call last)",
      "\u001b[36mCell\u001b[39m\u001b[36m \u001b[39m\u001b[32mIn[362]\u001b[39m\u001b[32m, line 30\u001b[39m\n\u001b[32m     28\u001b[39m gpt_model = GPT(vocab_size, block_size, batch_size, embd_dim, num_decoder, num_head).to(device)\n\u001b[32m     29\u001b[39m optimizer = torch.optim.AdamW(gpt_model.parameters(), lr=LR)\n\u001b[32m---> \u001b[39m\u001b[32m30\u001b[39m gpt_model, gpt_results = \u001b[43mtrain_model\u001b[49m\u001b[43m(\u001b[49m\n\u001b[32m     31\u001b[39m \u001b[43m    \u001b[49m\u001b[43mtraining_data\u001b[49m\u001b[43m.\u001b[49m\u001b[43mto\u001b[49m\u001b[43m(\u001b[49m\u001b[43mdevice\u001b[49m\u001b[43m)\u001b[49m\u001b[43m,\u001b[49m\u001b[43m \u001b[49m\u001b[43mvalidation_data\u001b[49m\u001b[43m.\u001b[49m\u001b[43mto\u001b[49m\u001b[43m(\u001b[49m\u001b[43mdevice\u001b[49m\u001b[43m)\u001b[49m\u001b[43m,\u001b[49m\u001b[43m \u001b[49m\u001b[43mgpt_model\u001b[49m\u001b[43m,\u001b[49m\u001b[43m \u001b[49m\u001b[43mmodel_name\u001b[49m\u001b[43m,\u001b[49m\u001b[43m \u001b[49m\u001b[43moptimizer\u001b[49m\u001b[43m,\u001b[49m\u001b[43m \u001b[49m\n\u001b[32m     32\u001b[39m \u001b[43m    \u001b[49m\u001b[43mmax_iter\u001b[49m\u001b[43m=\u001b[49m\u001b[43mmax_iter\u001b[49m\u001b[43m,\u001b[49m\u001b[43m \u001b[49m\u001b[43mbatch_size\u001b[49m\u001b[43m=\u001b[49m\u001b[43mbatch_size\u001b[49m\u001b[43m,\u001b[49m\u001b[43m \u001b[49m\u001b[43mblock_size\u001b[49m\u001b[43m=\u001b[49m\u001b[43mblock_size\u001b[49m\u001b[43m,\u001b[49m\u001b[43m \u001b[49m\u001b[43moverwrite\u001b[49m\u001b[43m=\u001b[49m\u001b[38;5;28;43;01mFalse\u001b[39;49;00m\u001b[43m,\u001b[49m\u001b[43m \u001b[49m\u001b[43msavemodel\u001b[49m\u001b[43m=\u001b[49m\u001b[38;5;28;43;01mTrue\u001b[39;49;00m\u001b[43m \u001b[49m\n\u001b[32m     33\u001b[39m \u001b[43m\u001b[49m\u001b[43m)\u001b[49m\n\u001b[32m     34\u001b[39m \u001b[38;5;28mprint\u001b[39m(\u001b[33mf\u001b[39m\u001b[33m\"\u001b[39m\u001b[33mModel\u001b[39m\u001b[38;5;132;01m{\u001b[39;00m\u001b[38;5;28miter\u001b[39m\u001b[38;5;132;01m}\u001b[39;00m\u001b[33m perplexity is: \u001b[39m\u001b[38;5;132;01m{\u001b[39;00mgpt_results[\u001b[33m\"\u001b[39m\u001b[33mperplexity\u001b[39m\u001b[33m\"\u001b[39m]\u001b[38;5;132;01m}\u001b[39;00m\u001b[33m\"\u001b[39m)\n\u001b[32m     35\u001b[39m \u001b[38;5;66;03m#clear_output(wait=True)\u001b[39;00m\n",
      "\u001b[36mCell\u001b[39m\u001b[36m \u001b[39m\u001b[32mIn[343]\u001b[39m\u001b[32m, line 85\u001b[39m, in \u001b[36mtrain_model\u001b[39m\u001b[34m(train_set, validation_set, model, model_name, optimizer, max_iter, batch_size, block_size, overwrite, savemodel)\u001b[39m\n\u001b[32m     83\u001b[39m \u001b[38;5;66;03m# Estimate and save the training loss and validation loss\u001b[39;00m\n\u001b[32m     84\u001b[39m \u001b[38;5;28;01mif\u001b[39;00m (\u001b[38;5;28miter\u001b[39m % \u001b[32m100\u001b[39m == \u001b[32m0\u001b[39m):\n\u001b[32m---> \u001b[39m\u001b[32m85\u001b[39m     training_loss = \u001b[43mestimate_loss\u001b[49m\u001b[43m(\u001b[49m\u001b[43mmodel\u001b[49m\u001b[43m,\u001b[49m\u001b[43m \u001b[49m\u001b[43mtrain_set\u001b[49m\u001b[43m,\u001b[49m\u001b[43m \u001b[49m\u001b[43mbatch_size\u001b[49m\u001b[43m,\u001b[49m\u001b[43m \u001b[49m\u001b[43mblock_size\u001b[49m\u001b[43m,\u001b[49m\u001b[43m \u001b[49m\u001b[32;43m500\u001b[39;49m\u001b[43m)\u001b[49m\n\u001b[32m     86\u001b[39m     validation_loss = estimate_loss(model, validation_set, batch_size, block_size, \u001b[32m500\u001b[39m)\n\u001b[32m     87\u001b[39m     training_losses.append(training_loss.item())\n",
      "\u001b[36mCell\u001b[39m\u001b[36m \u001b[39m\u001b[32mIn[265]\u001b[39m\u001b[32m, line 8\u001b[39m, in \u001b[36mestimate_loss\u001b[39m\u001b[34m(model, data, batch_size, block_size, iters)\u001b[39m\n\u001b[32m      6\u001b[39m     inputs, outputs = get_batch(data, batch_size, block_size)\n\u001b[32m      7\u001b[39m     \u001b[38;5;28;01mwith\u001b[39;00m torch.no_grad():\n\u001b[32m----> \u001b[39m\u001b[32m8\u001b[39m         logits, loss = \u001b[43mmodel\u001b[49m\u001b[43m(\u001b[49m\u001b[43minputs\u001b[49m\u001b[43m,\u001b[49m\u001b[43m \u001b[49m\u001b[43moutputs\u001b[49m\u001b[43m)\u001b[49m\n\u001b[32m      9\u001b[39m     losses[k] = loss.item()\n\u001b[32m     10\u001b[39m mean_loss = losses.mean()\n",
      "\u001b[36mFile \u001b[39m\u001b[32m/opt/homebrew/Caskroom/miniconda/base/envs/BML_GPT/lib/python3.12/site-packages/torch/nn/modules/module.py:1739\u001b[39m, in \u001b[36mModule._wrapped_call_impl\u001b[39m\u001b[34m(self, *args, **kwargs)\u001b[39m\n\u001b[32m   1737\u001b[39m     \u001b[38;5;28;01mreturn\u001b[39;00m \u001b[38;5;28mself\u001b[39m._compiled_call_impl(*args, **kwargs)  \u001b[38;5;66;03m# type: ignore[misc]\u001b[39;00m\n\u001b[32m   1738\u001b[39m \u001b[38;5;28;01melse\u001b[39;00m:\n\u001b[32m-> \u001b[39m\u001b[32m1739\u001b[39m     \u001b[38;5;28;01mreturn\u001b[39;00m \u001b[38;5;28;43mself\u001b[39;49m\u001b[43m.\u001b[49m\u001b[43m_call_impl\u001b[49m\u001b[43m(\u001b[49m\u001b[43m*\u001b[49m\u001b[43margs\u001b[49m\u001b[43m,\u001b[49m\u001b[43m \u001b[49m\u001b[43m*\u001b[49m\u001b[43m*\u001b[49m\u001b[43mkwargs\u001b[49m\u001b[43m)\u001b[49m\n",
      "\u001b[36mFile \u001b[39m\u001b[32m/opt/homebrew/Caskroom/miniconda/base/envs/BML_GPT/lib/python3.12/site-packages/torch/nn/modules/module.py:1750\u001b[39m, in \u001b[36mModule._call_impl\u001b[39m\u001b[34m(self, *args, **kwargs)\u001b[39m\n\u001b[32m   1745\u001b[39m \u001b[38;5;66;03m# If we don't have any hooks, we want to skip the rest of the logic in\u001b[39;00m\n\u001b[32m   1746\u001b[39m \u001b[38;5;66;03m# this function, and just call forward.\u001b[39;00m\n\u001b[32m   1747\u001b[39m \u001b[38;5;28;01mif\u001b[39;00m \u001b[38;5;129;01mnot\u001b[39;00m (\u001b[38;5;28mself\u001b[39m._backward_hooks \u001b[38;5;129;01mor\u001b[39;00m \u001b[38;5;28mself\u001b[39m._backward_pre_hooks \u001b[38;5;129;01mor\u001b[39;00m \u001b[38;5;28mself\u001b[39m._forward_hooks \u001b[38;5;129;01mor\u001b[39;00m \u001b[38;5;28mself\u001b[39m._forward_pre_hooks\n\u001b[32m   1748\u001b[39m         \u001b[38;5;129;01mor\u001b[39;00m _global_backward_pre_hooks \u001b[38;5;129;01mor\u001b[39;00m _global_backward_hooks\n\u001b[32m   1749\u001b[39m         \u001b[38;5;129;01mor\u001b[39;00m _global_forward_hooks \u001b[38;5;129;01mor\u001b[39;00m _global_forward_pre_hooks):\n\u001b[32m-> \u001b[39m\u001b[32m1750\u001b[39m     \u001b[38;5;28;01mreturn\u001b[39;00m \u001b[43mforward_call\u001b[49m\u001b[43m(\u001b[49m\u001b[43m*\u001b[49m\u001b[43margs\u001b[49m\u001b[43m,\u001b[49m\u001b[43m \u001b[49m\u001b[43m*\u001b[49m\u001b[43m*\u001b[49m\u001b[43mkwargs\u001b[49m\u001b[43m)\u001b[49m\n\u001b[32m   1752\u001b[39m result = \u001b[38;5;28;01mNone\u001b[39;00m\n\u001b[32m   1753\u001b[39m called_always_called_hooks = \u001b[38;5;28mset\u001b[39m()\n",
      "\u001b[36mCell\u001b[39m\u001b[36m \u001b[39m\u001b[32mIn[319]\u001b[39m\u001b[32m, line 22\u001b[39m, in \u001b[36mGPT.forward\u001b[39m\u001b[34m(self, idx, targets)\u001b[39m\n\u001b[32m     20\u001b[39m pos_emb = \u001b[38;5;28mself\u001b[39m.position_embedding_table(torch.arange(T, device=device)) \u001b[38;5;66;03m# (T,C)\u001b[39;00m\n\u001b[32m     21\u001b[39m inputs = tok_emb + pos_emb \u001b[38;5;66;03m# (B,T,C)\u001b[39;00m\n\u001b[32m---> \u001b[39m\u001b[32m22\u001b[39m inputs = \u001b[38;5;28;43mself\u001b[39;49m\u001b[43m.\u001b[49m\u001b[43mtransformer_blocks\u001b[49m\u001b[43m(\u001b[49m\u001b[43minputs\u001b[49m\u001b[43m,\u001b[49m\u001b[43m \u001b[49m\u001b[43mmemory\u001b[49m\u001b[43m=\u001b[49m\u001b[43mtorch\u001b[49m\u001b[43m.\u001b[49m\u001b[43mzeros_like\u001b[49m\u001b[43m(\u001b[49m\u001b[43minputs\u001b[49m\u001b[43m)\u001b[49m\u001b[43m)\u001b[49m\n\u001b[32m     23\u001b[39m logits = \u001b[38;5;28mself\u001b[39m.linear_layer(inputs)\n\u001b[32m     25\u001b[39m \u001b[38;5;28;01mif\u001b[39;00m targets \u001b[38;5;129;01mis\u001b[39;00m \u001b[38;5;28;01mNone\u001b[39;00m:\n",
      "\u001b[36mFile \u001b[39m\u001b[32m/opt/homebrew/Caskroom/miniconda/base/envs/BML_GPT/lib/python3.12/site-packages/torch/nn/modules/module.py:1739\u001b[39m, in \u001b[36mModule._wrapped_call_impl\u001b[39m\u001b[34m(self, *args, **kwargs)\u001b[39m\n\u001b[32m   1737\u001b[39m     \u001b[38;5;28;01mreturn\u001b[39;00m \u001b[38;5;28mself\u001b[39m._compiled_call_impl(*args, **kwargs)  \u001b[38;5;66;03m# type: ignore[misc]\u001b[39;00m\n\u001b[32m   1738\u001b[39m \u001b[38;5;28;01melse\u001b[39;00m:\n\u001b[32m-> \u001b[39m\u001b[32m1739\u001b[39m     \u001b[38;5;28;01mreturn\u001b[39;00m \u001b[38;5;28;43mself\u001b[39;49m\u001b[43m.\u001b[49m\u001b[43m_call_impl\u001b[49m\u001b[43m(\u001b[49m\u001b[43m*\u001b[49m\u001b[43margs\u001b[49m\u001b[43m,\u001b[49m\u001b[43m \u001b[49m\u001b[43m*\u001b[49m\u001b[43m*\u001b[49m\u001b[43mkwargs\u001b[49m\u001b[43m)\u001b[49m\n",
      "\u001b[36mFile \u001b[39m\u001b[32m/opt/homebrew/Caskroom/miniconda/base/envs/BML_GPT/lib/python3.12/site-packages/torch/nn/modules/module.py:1750\u001b[39m, in \u001b[36mModule._call_impl\u001b[39m\u001b[34m(self, *args, **kwargs)\u001b[39m\n\u001b[32m   1745\u001b[39m \u001b[38;5;66;03m# If we don't have any hooks, we want to skip the rest of the logic in\u001b[39;00m\n\u001b[32m   1746\u001b[39m \u001b[38;5;66;03m# this function, and just call forward.\u001b[39;00m\n\u001b[32m   1747\u001b[39m \u001b[38;5;28;01mif\u001b[39;00m \u001b[38;5;129;01mnot\u001b[39;00m (\u001b[38;5;28mself\u001b[39m._backward_hooks \u001b[38;5;129;01mor\u001b[39;00m \u001b[38;5;28mself\u001b[39m._backward_pre_hooks \u001b[38;5;129;01mor\u001b[39;00m \u001b[38;5;28mself\u001b[39m._forward_hooks \u001b[38;5;129;01mor\u001b[39;00m \u001b[38;5;28mself\u001b[39m._forward_pre_hooks\n\u001b[32m   1748\u001b[39m         \u001b[38;5;129;01mor\u001b[39;00m _global_backward_pre_hooks \u001b[38;5;129;01mor\u001b[39;00m _global_backward_hooks\n\u001b[32m   1749\u001b[39m         \u001b[38;5;129;01mor\u001b[39;00m _global_forward_hooks \u001b[38;5;129;01mor\u001b[39;00m _global_forward_pre_hooks):\n\u001b[32m-> \u001b[39m\u001b[32m1750\u001b[39m     \u001b[38;5;28;01mreturn\u001b[39;00m \u001b[43mforward_call\u001b[49m\u001b[43m(\u001b[49m\u001b[43m*\u001b[49m\u001b[43margs\u001b[49m\u001b[43m,\u001b[49m\u001b[43m \u001b[49m\u001b[43m*\u001b[49m\u001b[43m*\u001b[49m\u001b[43mkwargs\u001b[49m\u001b[43m)\u001b[49m\n\u001b[32m   1752\u001b[39m result = \u001b[38;5;28;01mNone\u001b[39;00m\n\u001b[32m   1753\u001b[39m called_always_called_hooks = \u001b[38;5;28mset\u001b[39m()\n",
      "\u001b[36mFile \u001b[39m\u001b[32m/opt/homebrew/Caskroom/miniconda/base/envs/BML_GPT/lib/python3.12/site-packages/torch/nn/modules/transformer.py:613\u001b[39m, in \u001b[36mTransformerDecoder.forward\u001b[39m\u001b[34m(self, tgt, memory, tgt_mask, memory_mask, tgt_key_padding_mask, memory_key_padding_mask, tgt_is_causal, memory_is_causal)\u001b[39m\n\u001b[32m    610\u001b[39m tgt_is_causal = _detect_is_causal_mask(tgt_mask, tgt_is_causal, seq_len)\n\u001b[32m    612\u001b[39m \u001b[38;5;28;01mfor\u001b[39;00m mod \u001b[38;5;129;01min\u001b[39;00m \u001b[38;5;28mself\u001b[39m.layers:\n\u001b[32m--> \u001b[39m\u001b[32m613\u001b[39m     output = \u001b[43mmod\u001b[49m\u001b[43m(\u001b[49m\n\u001b[32m    614\u001b[39m \u001b[43m        \u001b[49m\u001b[43moutput\u001b[49m\u001b[43m,\u001b[49m\n\u001b[32m    615\u001b[39m \u001b[43m        \u001b[49m\u001b[43mmemory\u001b[49m\u001b[43m,\u001b[49m\n\u001b[32m    616\u001b[39m \u001b[43m        \u001b[49m\u001b[43mtgt_mask\u001b[49m\u001b[43m=\u001b[49m\u001b[43mtgt_mask\u001b[49m\u001b[43m,\u001b[49m\n\u001b[32m    617\u001b[39m \u001b[43m        \u001b[49m\u001b[43mmemory_mask\u001b[49m\u001b[43m=\u001b[49m\u001b[43mmemory_mask\u001b[49m\u001b[43m,\u001b[49m\n\u001b[32m    618\u001b[39m \u001b[43m        \u001b[49m\u001b[43mtgt_key_padding_mask\u001b[49m\u001b[43m=\u001b[49m\u001b[43mtgt_key_padding_mask\u001b[49m\u001b[43m,\u001b[49m\n\u001b[32m    619\u001b[39m \u001b[43m        \u001b[49m\u001b[43mmemory_key_padding_mask\u001b[49m\u001b[43m=\u001b[49m\u001b[43mmemory_key_padding_mask\u001b[49m\u001b[43m,\u001b[49m\n\u001b[32m    620\u001b[39m \u001b[43m        \u001b[49m\u001b[43mtgt_is_causal\u001b[49m\u001b[43m=\u001b[49m\u001b[43mtgt_is_causal\u001b[49m\u001b[43m,\u001b[49m\n\u001b[32m    621\u001b[39m \u001b[43m        \u001b[49m\u001b[43mmemory_is_causal\u001b[49m\u001b[43m=\u001b[49m\u001b[43mmemory_is_causal\u001b[49m\u001b[43m,\u001b[49m\n\u001b[32m    622\u001b[39m \u001b[43m    \u001b[49m\u001b[43m)\u001b[49m\n\u001b[32m    624\u001b[39m \u001b[38;5;28;01mif\u001b[39;00m \u001b[38;5;28mself\u001b[39m.norm \u001b[38;5;129;01mis\u001b[39;00m \u001b[38;5;129;01mnot\u001b[39;00m \u001b[38;5;28;01mNone\u001b[39;00m:\n\u001b[32m    625\u001b[39m     output = \u001b[38;5;28mself\u001b[39m.norm(output)\n",
      "\u001b[36mFile \u001b[39m\u001b[32m/opt/homebrew/Caskroom/miniconda/base/envs/BML_GPT/lib/python3.12/site-packages/torch/nn/modules/module.py:1739\u001b[39m, in \u001b[36mModule._wrapped_call_impl\u001b[39m\u001b[34m(self, *args, **kwargs)\u001b[39m\n\u001b[32m   1737\u001b[39m     \u001b[38;5;28;01mreturn\u001b[39;00m \u001b[38;5;28mself\u001b[39m._compiled_call_impl(*args, **kwargs)  \u001b[38;5;66;03m# type: ignore[misc]\u001b[39;00m\n\u001b[32m   1738\u001b[39m \u001b[38;5;28;01melse\u001b[39;00m:\n\u001b[32m-> \u001b[39m\u001b[32m1739\u001b[39m     \u001b[38;5;28;01mreturn\u001b[39;00m \u001b[38;5;28;43mself\u001b[39;49m\u001b[43m.\u001b[49m\u001b[43m_call_impl\u001b[49m\u001b[43m(\u001b[49m\u001b[43m*\u001b[49m\u001b[43margs\u001b[49m\u001b[43m,\u001b[49m\u001b[43m \u001b[49m\u001b[43m*\u001b[49m\u001b[43m*\u001b[49m\u001b[43mkwargs\u001b[49m\u001b[43m)\u001b[49m\n",
      "\u001b[36mFile \u001b[39m\u001b[32m/opt/homebrew/Caskroom/miniconda/base/envs/BML_GPT/lib/python3.12/site-packages/torch/nn/modules/module.py:1750\u001b[39m, in \u001b[36mModule._call_impl\u001b[39m\u001b[34m(self, *args, **kwargs)\u001b[39m\n\u001b[32m   1745\u001b[39m \u001b[38;5;66;03m# If we don't have any hooks, we want to skip the rest of the logic in\u001b[39;00m\n\u001b[32m   1746\u001b[39m \u001b[38;5;66;03m# this function, and just call forward.\u001b[39;00m\n\u001b[32m   1747\u001b[39m \u001b[38;5;28;01mif\u001b[39;00m \u001b[38;5;129;01mnot\u001b[39;00m (\u001b[38;5;28mself\u001b[39m._backward_hooks \u001b[38;5;129;01mor\u001b[39;00m \u001b[38;5;28mself\u001b[39m._backward_pre_hooks \u001b[38;5;129;01mor\u001b[39;00m \u001b[38;5;28mself\u001b[39m._forward_hooks \u001b[38;5;129;01mor\u001b[39;00m \u001b[38;5;28mself\u001b[39m._forward_pre_hooks\n\u001b[32m   1748\u001b[39m         \u001b[38;5;129;01mor\u001b[39;00m _global_backward_pre_hooks \u001b[38;5;129;01mor\u001b[39;00m _global_backward_hooks\n\u001b[32m   1749\u001b[39m         \u001b[38;5;129;01mor\u001b[39;00m _global_forward_hooks \u001b[38;5;129;01mor\u001b[39;00m _global_forward_pre_hooks):\n\u001b[32m-> \u001b[39m\u001b[32m1750\u001b[39m     \u001b[38;5;28;01mreturn\u001b[39;00m \u001b[43mforward_call\u001b[49m\u001b[43m(\u001b[49m\u001b[43m*\u001b[49m\u001b[43margs\u001b[49m\u001b[43m,\u001b[49m\u001b[43m \u001b[49m\u001b[43m*\u001b[49m\u001b[43m*\u001b[49m\u001b[43mkwargs\u001b[49m\u001b[43m)\u001b[49m\n\u001b[32m   1752\u001b[39m result = \u001b[38;5;28;01mNone\u001b[39;00m\n\u001b[32m   1753\u001b[39m called_always_called_hooks = \u001b[38;5;28mset\u001b[39m()\n",
      "\u001b[36mFile \u001b[39m\u001b[32m/opt/homebrew/Caskroom/miniconda/base/envs/BML_GPT/lib/python3.12/site-packages/torch/nn/modules/transformer.py:1116\u001b[39m, in \u001b[36mTransformerDecoderLayer.forward\u001b[39m\u001b[34m(self, tgt, memory, tgt_mask, memory_mask, tgt_key_padding_mask, memory_key_padding_mask, tgt_is_causal, memory_is_causal)\u001b[39m\n\u001b[32m   1107\u001b[39m     x = \u001b[38;5;28mself\u001b[39m.norm1(\n\u001b[32m   1108\u001b[39m         x + \u001b[38;5;28mself\u001b[39m._sa_block(x, tgt_mask, tgt_key_padding_mask, tgt_is_causal)\n\u001b[32m   1109\u001b[39m     )\n\u001b[32m   1110\u001b[39m     x = \u001b[38;5;28mself\u001b[39m.norm2(\n\u001b[32m   1111\u001b[39m         x\n\u001b[32m   1112\u001b[39m         + \u001b[38;5;28mself\u001b[39m._mha_block(\n\u001b[32m   1113\u001b[39m             x, memory, memory_mask, memory_key_padding_mask, memory_is_causal\n\u001b[32m   1114\u001b[39m         )\n\u001b[32m   1115\u001b[39m     )\n\u001b[32m-> \u001b[39m\u001b[32m1116\u001b[39m     x = \u001b[38;5;28mself\u001b[39m.norm3(x + \u001b[38;5;28;43mself\u001b[39;49m\u001b[43m.\u001b[49m\u001b[43m_ff_block\u001b[49m\u001b[43m(\u001b[49m\u001b[43mx\u001b[49m\u001b[43m)\u001b[49m)\n\u001b[32m   1118\u001b[39m \u001b[38;5;28;01mreturn\u001b[39;00m x\n",
      "\u001b[36mFile \u001b[39m\u001b[32m/opt/homebrew/Caskroom/miniconda/base/envs/BML_GPT/lib/python3.12/site-packages/torch/nn/modules/transformer.py:1161\u001b[39m, in \u001b[36mTransformerDecoderLayer._ff_block\u001b[39m\u001b[34m(self, x)\u001b[39m\n\u001b[32m   1160\u001b[39m \u001b[38;5;28;01mdef\u001b[39;00m\u001b[38;5;250m \u001b[39m\u001b[34m_ff_block\u001b[39m(\u001b[38;5;28mself\u001b[39m, x: Tensor) -> Tensor:\n\u001b[32m-> \u001b[39m\u001b[32m1161\u001b[39m     x = \u001b[38;5;28mself\u001b[39m.linear2(\u001b[38;5;28mself\u001b[39m.dropout(\u001b[38;5;28mself\u001b[39m.activation(\u001b[38;5;28;43mself\u001b[39;49m\u001b[43m.\u001b[49m\u001b[43mlinear1\u001b[49m\u001b[43m(\u001b[49m\u001b[43mx\u001b[49m\u001b[43m)\u001b[49m)))\n\u001b[32m   1162\u001b[39m     \u001b[38;5;28;01mreturn\u001b[39;00m \u001b[38;5;28mself\u001b[39m.dropout3(x)\n",
      "\u001b[36mFile \u001b[39m\u001b[32m/opt/homebrew/Caskroom/miniconda/base/envs/BML_GPT/lib/python3.12/site-packages/torch/nn/modules/module.py:1739\u001b[39m, in \u001b[36mModule._wrapped_call_impl\u001b[39m\u001b[34m(self, *args, **kwargs)\u001b[39m\n\u001b[32m   1737\u001b[39m     \u001b[38;5;28;01mreturn\u001b[39;00m \u001b[38;5;28mself\u001b[39m._compiled_call_impl(*args, **kwargs)  \u001b[38;5;66;03m# type: ignore[misc]\u001b[39;00m\n\u001b[32m   1738\u001b[39m \u001b[38;5;28;01melse\u001b[39;00m:\n\u001b[32m-> \u001b[39m\u001b[32m1739\u001b[39m     \u001b[38;5;28;01mreturn\u001b[39;00m \u001b[38;5;28;43mself\u001b[39;49m\u001b[43m.\u001b[49m\u001b[43m_call_impl\u001b[49m\u001b[43m(\u001b[49m\u001b[43m*\u001b[49m\u001b[43margs\u001b[49m\u001b[43m,\u001b[49m\u001b[43m \u001b[49m\u001b[43m*\u001b[49m\u001b[43m*\u001b[49m\u001b[43mkwargs\u001b[49m\u001b[43m)\u001b[49m\n",
      "\u001b[36mFile \u001b[39m\u001b[32m/opt/homebrew/Caskroom/miniconda/base/envs/BML_GPT/lib/python3.12/site-packages/torch/nn/modules/module.py:1750\u001b[39m, in \u001b[36mModule._call_impl\u001b[39m\u001b[34m(self, *args, **kwargs)\u001b[39m\n\u001b[32m   1745\u001b[39m \u001b[38;5;66;03m# If we don't have any hooks, we want to skip the rest of the logic in\u001b[39;00m\n\u001b[32m   1746\u001b[39m \u001b[38;5;66;03m# this function, and just call forward.\u001b[39;00m\n\u001b[32m   1747\u001b[39m \u001b[38;5;28;01mif\u001b[39;00m \u001b[38;5;129;01mnot\u001b[39;00m (\u001b[38;5;28mself\u001b[39m._backward_hooks \u001b[38;5;129;01mor\u001b[39;00m \u001b[38;5;28mself\u001b[39m._backward_pre_hooks \u001b[38;5;129;01mor\u001b[39;00m \u001b[38;5;28mself\u001b[39m._forward_hooks \u001b[38;5;129;01mor\u001b[39;00m \u001b[38;5;28mself\u001b[39m._forward_pre_hooks\n\u001b[32m   1748\u001b[39m         \u001b[38;5;129;01mor\u001b[39;00m _global_backward_pre_hooks \u001b[38;5;129;01mor\u001b[39;00m _global_backward_hooks\n\u001b[32m   1749\u001b[39m         \u001b[38;5;129;01mor\u001b[39;00m _global_forward_hooks \u001b[38;5;129;01mor\u001b[39;00m _global_forward_pre_hooks):\n\u001b[32m-> \u001b[39m\u001b[32m1750\u001b[39m     \u001b[38;5;28;01mreturn\u001b[39;00m \u001b[43mforward_call\u001b[49m\u001b[43m(\u001b[49m\u001b[43m*\u001b[49m\u001b[43margs\u001b[49m\u001b[43m,\u001b[49m\u001b[43m \u001b[49m\u001b[43m*\u001b[49m\u001b[43m*\u001b[49m\u001b[43mkwargs\u001b[49m\u001b[43m)\u001b[49m\n\u001b[32m   1752\u001b[39m result = \u001b[38;5;28;01mNone\u001b[39;00m\n\u001b[32m   1753\u001b[39m called_always_called_hooks = \u001b[38;5;28mset\u001b[39m()\n",
      "\u001b[36mFile \u001b[39m\u001b[32m/opt/homebrew/Caskroom/miniconda/base/envs/BML_GPT/lib/python3.12/site-packages/torch/nn/modules/linear.py:125\u001b[39m, in \u001b[36mLinear.forward\u001b[39m\u001b[34m(self, input)\u001b[39m\n\u001b[32m    124\u001b[39m \u001b[38;5;28;01mdef\u001b[39;00m\u001b[38;5;250m \u001b[39m\u001b[34mforward\u001b[39m(\u001b[38;5;28mself\u001b[39m, \u001b[38;5;28minput\u001b[39m: Tensor) -> Tensor:\n\u001b[32m--> \u001b[39m\u001b[32m125\u001b[39m     \u001b[38;5;28;01mreturn\u001b[39;00m \u001b[43mF\u001b[49m\u001b[43m.\u001b[49m\u001b[43mlinear\u001b[49m\u001b[43m(\u001b[49m\u001b[38;5;28;43minput\u001b[39;49m\u001b[43m,\u001b[49m\u001b[43m \u001b[49m\u001b[38;5;28;43mself\u001b[39;49m\u001b[43m.\u001b[49m\u001b[43mweight\u001b[49m\u001b[43m,\u001b[49m\u001b[43m \u001b[49m\u001b[38;5;28;43mself\u001b[39;49m\u001b[43m.\u001b[49m\u001b[43mbias\u001b[49m\u001b[43m)\u001b[49m\n",
      "\u001b[31mKeyboardInterrupt\u001b[39m: "
     ]
    }
   ],
   "source": [
    "block_sizes = [8, 16]\n",
    "batch_sizes = [32]\n",
    "max_iters = [2000]\n",
    "vocab_sizes = [1500]\n",
    "embd_dims = [24, 48, 96]\n",
    "num_decoders = [6, 12]\n",
    "num_heads = [12]\n",
    "\n",
    "plt.ion()\n",
    "fig, ax = plt.subplots()\n",
    "ax.set_xlabel(\"Iterations\")\n",
    "ax.set_ylabel(\"Estimated Cross Entropy Loss\")\n",
    "ax.set_title(\"Training vs Validation Loss\")\n",
    "ax.grid(True)\n",
    "\n",
    "fig2, ax2 = plt.subplots()\n",
    "ax2.set_xlabel(\"Iterations\")\n",
    "ax2.set_ylabel(\"Perplexity\")\n",
    "ax2.set_title(\"Training vs Validation Loss\")\n",
    "ax2.grid(True)\n",
    "\n",
    "iter = 0\n",
    "for vocab_size in vocab_sizes:\n",
    "    tokenizers = [train_tokenizer(\"tinyshakespeare.txt\", \"tinyshakespeare_tokenizer.json\", vocab_size), GPT2Tokenizer.from_pretrained(\"gpt2\")]\n",
    "    for tokenizer in tokenizers:\n",
    "        training_data, validation_data = tokenize_data(tokenizer, raw_data, TRAIN_PCT)\n",
    "        for block_size in block_sizes:\n",
    "            for batch_size in batch_sizes:\n",
    "                for max_iter in max_iters:\n",
    "                    for embd_dim in embd_dims:\n",
    "                        for num_decoder in num_decoders:\n",
    "                            for num_head in num_heads:\n",
    "                                model_name = f\"gpt_model_{vocab_size}_{block_size}_{batch_size}_{embd_dim}_{max_iter}_{num_decoder}_{num_head}\"\n",
    "                                print(f\"Training model {model_name}\")\n",
    "                                gpt_model = GPT(vocab_size, block_size, batch_size, embd_dim, num_decoder, num_head).to(device)\n",
    "                                optimizer = torch.optim.AdamW(gpt_model.parameters(), lr=LR)\n",
    "                                gpt_model, gpt_results = train_model(\n",
    "                                    training_data.to(device), validation_data.to(device), gpt_model, model_name, optimizer, \n",
    "                                    max_iter=max_iter, batch_size=batch_size, block_size=block_size, overwrite=False, savemodel=True \n",
    "                                )\n",
    "                                clear_output(wait=True)\n",
    "                                rand_color = \"C\" + str(iter)\n",
    "                                ax.plot(gpt_results[\"iters\"], gpt_results[\"training_loss\"], label=f\"Model{iter} Training Loss\", color=rand_color, linestyle=\"-\")\n",
    "                                ax.plot(gpt_results[\"iters\"], gpt_results[\"validation_loss\"], label=f\"Model{iter} Validation Loss\", color=rand_color, linestyle=\"--\")\n",
    "                                ax.relim()  # Recalculate limits\n",
    "                                ax.autoscale_view()  # Autoscale based on new limits\n",
    "                                ax.legend()\n",
    "                                ax.legend(bbox_to_anchor=(1.04, 1), loc=\"upper left\")\n",
    "                                ax2.bar(f\"Model{iter}\", gpt_results[\"perplexity\"])\n",
    "                                display(fig)\n",
    "                                display(fig2)\n",
    "                                plt.close(fig)\n",
    "                                plt.close(fig2)\n",
    "                                iter += 1\n",
    "\n",
    "\n",
    "plt.ioff()\n",
    "plt.show()  \n",
    "\n"
   ]
  }
 ],
 "metadata": {
  "kernelspec": {
   "display_name": "Python (BML_GPT_mac)",
   "language": "python",
   "name": "bml_gpt_mac"
  },
  "language_info": {
   "codemirror_mode": {
    "name": "ipython",
    "version": 3
   },
   "file_extension": ".py",
   "mimetype": "text/x-python",
   "name": "python",
   "nbconvert_exporter": "python",
   "pygments_lexer": "ipython3",
   "version": "3.12.9"
  }
 },
 "nbformat": 4,
 "nbformat_minor": 2
}
