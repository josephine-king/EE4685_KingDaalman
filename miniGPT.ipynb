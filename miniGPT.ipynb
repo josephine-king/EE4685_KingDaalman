{
 "cells": [
  {
   "cell_type": "markdown",
   "metadata": {},
   "source": [
    "**EE4685 Assignment 2: Building a miniGPT** by Josephine King and Alec Daalman\n",
    "\n",
    "**References:**\n",
    "- \"Let's build GPT: from scratch, in code, spelled out.\" Youtube tutorial by Andrej Karpathy. https://www.youtube.com/watch?v=kCc8FmEb1nY\n",
    "- HuggingFace Tokenizer developer guides. https://huggingface.co/docs/transformers/en/notebooks\n"
   ]
  },
  {
   "cell_type": "code",
   "execution_count": null,
   "metadata": {},
   "outputs": [
    {
     "name": "stdout",
     "output_type": "stream",
     "text": [
      "Using device cpu\n",
      "--2025-03-22 16:01:31--  https://raw.githubusercontent.com/karpathy/char-rnn/master/data/tinyshakespeare/input.txt\n",
      "Resolving raw.githubusercontent.com (raw.githubusercontent.com)... "
     ]
    },
    {
     "name": "stderr",
     "output_type": "stream",
     "text": [
      "huggingface/tokenizers: The current process just got forked, after parallelism has already been used. Disabling parallelism to avoid deadlocks...\n",
      "To disable this warning, you can either:\n",
      "\t- Avoid using `tokenizers` before the fork if possible\n",
      "\t- Explicitly set the environment variable TOKENIZERS_PARALLELISM=(true | false)\n"
     ]
    },
    {
     "name": "stdout",
     "output_type": "stream",
     "text": [
      "185.199.109.133, 185.199.111.133, 185.199.108.133, ...\n",
      "Connecting to raw.githubusercontent.com (raw.githubusercontent.com)|185.199.109.133|:443... connected.\n",
      "HTTP request sent, awaiting response... 200 OK\n",
      "Length: 1115394 (1.1M) [text/plain]\n",
      "Saving to: ‘tinyshakespeare.txt’\n",
      "\n",
      "tinyshakespeare.txt 100%[===================>]   1.06M  5.06MB/s    in 0.2s    \n",
      "\n",
      "2025-03-22 16:01:31 (5.06 MB/s) - ‘tinyshakespeare.txt’ saved [1115394/1115394]\n",
      "\n"
     ]
    }
   ],
   "source": [
    "# Import packages\n",
    "import os\n",
    "import json\n",
    "from tqdm.notebook import tqdm\n",
    "import tiktoken\n",
    "import torch\n",
    "import torch.nn as nn\n",
    "from torch.nn import functional as F\n",
    "import torch.utils.data as data\n",
    "from tokenizers import Tokenizer, pre_tokenizers\n",
    "from tokenizers.models import BPE\n",
    "from tokenizers.trainers import BpeTrainer\n",
    "from tokenizers.decoders import BPEDecoder\n",
    "from tokenizers.pre_tokenizers import Whitespace\n",
    "import matplotlib.pyplot as plt\n",
    "import numpy as np\n",
    "from torchmetrics.text import Perplexity\n",
    "\n",
    "# Setup\n",
    "torch.manual_seed(6250513)\n",
    "device = 'cuda' if torch.cuda.is_available() else 'cpu'\n",
    "CHECKPOINT_PATH = \"./saved_models/\"\n",
    "device = torch.device(\"cpu\") if not torch.cuda.is_available() else torch.device(\"cuda:0\")\n",
    "print(\"Using device\", device)\n",
    "\n",
    "# Initialize model parameters\n",
    "TRAIN_PCT = 0.8\n",
    "BLOCK_SIZE = 64\n",
    "BATCH_SIZE = 32\n",
    "MAX_ITER = 6000\n",
    "VOCAB_SIZE = 3000\n",
    "EMBD_DIM = 192\n",
    "NUM_DECODERS = 12\n",
    "NUM_HEADS = 5\n",
    "LR = 2.5e-5\n",
    "\n",
    "# Download the TinyShakespeare dataset\n",
    "!wget -O tinyshakespeare.txt https://raw.githubusercontent.com/karpathy/char-rnn/master/data/tinyshakespeare/input.txt\n",
    "with open('tinyshakespeare.txt', 'r', encoding='utf-8') as f: raw_data = f.read()\n"
   ]
  },
  {
   "cell_type": "markdown",
   "metadata": {},
   "source": [
    "**Bigram Model:**"
   ]
  },
  {
   "cell_type": "code",
   "execution_count": null,
   "metadata": {},
   "outputs": [],
   "source": [
    "# Copied from Karpathy's tutorial\n",
    "class BigramLanguageModel(nn.Module):\n",
    "\n",
    "    def __init__(self, vocab_size):\n",
    "        super().__init__()\n",
    "        # each token directly reads off the logits for the next token from a lookup table\n",
    "        self.token_embedding_table = nn.Embedding(vocab_size, vocab_size)\n",
    "\n",
    "    def forward(self, idx, targets=None):\n",
    "        # idx and targets are both (B,T) tensor of integers\n",
    "        logits = self.token_embedding_table(idx) # (B,T,C)\n",
    "\n",
    "        if targets is None:\n",
    "            loss = None\n",
    "        else:\n",
    "            B, T, C = logits.shape\n",
    "            logits = logits.view(B*T, C)\n",
    "            targets = targets.view(B*T)\n",
    "            loss = F.cross_entropy(logits, targets)\n",
    "\n",
    "        return logits, loss\n",
    "\n",
    "    # Generate num_gen_tokens more tokens given the current tokens in curr_tokens\n",
    "    def generate(self, curr_tokens, num_gen_tokens):\n",
    "        for _ in range(num_gen_tokens):\n",
    "            # Get the predictions for the next tokens \n",
    "            preds, loss = self.forward(curr_tokens)\n",
    "            # Look only at the last time step\n",
    "            preds = preds[:, -1, :] # becomes (B, C)\n",
    "            # Normalize probabilities from 0 to 1 using softmax\n",
    "            probs = F.softmax(preds, dim=-1) # (B, C)\n",
    "            # Get the next token by sampling from the probability distribution\n",
    "            next_token = torch.multinomial(probs, num_samples=1) # (B, 1)\n",
    "            # Add the new token to the current tokens\n",
    "            curr_tokens = torch.cat((curr_tokens, next_token), dim=1) # (B, T+1)\n",
    "        return curr_tokens"
   ]
  },
  {
   "cell_type": "markdown",
   "metadata": {},
   "source": [
    "**GPT Model:**"
   ]
  },
  {
   "cell_type": "code",
   "execution_count": null,
   "metadata": {},
   "outputs": [],
   "source": [
    "# GPT architecture \n",
    "class GPT(nn.Module):\n",
    "\n",
    "    def __init__(self, vocab_size, block_size, embd_dim, decoders, num_heads):\n",
    "        super().__init__()\n",
    "        self.token_embedding_table = nn.Embedding(vocab_size, embd_dim)\n",
    "        self.position_embedding_table = nn.Embedding(block_size, embd_dim)\n",
    "\n",
    "        self.transformer_blocks = nn.TransformerDecoder(nn.TransformerDecoderLayer(d_model=embd_dim, nhead=num_heads, dim_feedforward=3072, dropout=0.1), decoders, norm=None)\n",
    "        self.linear_layer = nn.Linear(embd_dim, vocab_size)\n",
    "        self.block_size = block_size\n",
    "\n",
    "        self.config = {\"vocab_size\": vocab_size, \"block_size\": block_size, \"embd_dim\": embd_dim, \"decoders\": decoders, \"num_heads\": num_heads}\n",
    "\n",
    "    def forward(self, idx, targets=None):\n",
    "        # idx and targets are both (B,T) tensor of integers\n",
    "        B, T = idx.shape\n",
    "        logits = self.token_embedding_table(idx) # (B,T,C)\n",
    "        tok_emb = self.token_embedding_table(idx) # (B,T,C)\n",
    "        pos_emb = self.position_embedding_table(torch.arange(T, device=device)) # (T,C)\n",
    "        inputs = tok_emb + pos_emb # (B,T,C)\n",
    "        inputs = self.transformer_blocks(inputs, memory=torch.zeros_like(inputs))\n",
    "        logits = self.linear_layer(inputs)\n",
    "\n",
    "        if targets is None:\n",
    "            loss = None\n",
    "        else:\n",
    "            B, T, C = logits.shape\n",
    "            logits = logits.view(B*T, C)\n",
    "            targets = targets.view(B*T)\n",
    "            loss = F.cross_entropy(logits, targets)\n",
    "\n",
    "        return logits, loss\n",
    "\n",
    "    # Generate num_gen_tokens more tokens given the current tokens in curr_tokens\n",
    "    def generate(self, curr_tokens, num_gen_tokens):\n",
    "        for _ in range(num_gen_tokens):\n",
    "            curr_tokens_cond = curr_tokens[:, -self.block_size:]\n",
    "            # Get the predictions for the next tokens \n",
    "            preds, loss = self.forward(curr_tokens_cond)\n",
    "            # Look only at the last time step\n",
    "            preds = preds[:, -1, :] # becomes (B, C)\n",
    "            # Normalize probabilities from 0 to 1 using softmax\n",
    "            probs = F.softmax(preds, dim=-1) # (B, C)\n",
    "            # Get the next token by sampling from the probability distribution\n",
    "            next_token = torch.multinomial(probs, num_samples=1) # (B, 1)\n",
    "            # Add the new token to the current tokens\n",
    "            curr_tokens = torch.cat((curr_tokens, next_token), dim=1) # (B, T+1)\n",
    "        return curr_tokens"
   ]
  },
  {
   "cell_type": "markdown",
   "metadata": {},
   "source": [
    "**Model Evaluation Functions:**"
   ]
  },
  {
   "cell_type": "code",
   "execution_count": 265,
   "metadata": {},
   "outputs": [],
   "source": [
    "def estimate_loss(model, data, batch_size, block_size, iters):\n",
    "    out = {}\n",
    "    model.eval()\n",
    "    losses = torch.zeros(iters)\n",
    "    for k in range(iters):\n",
    "        inputs, outputs = get_batch(data, batch_size, block_size)\n",
    "        with torch.no_grad():\n",
    "            logits, loss = model(inputs, outputs)\n",
    "        losses[k] = loss.item()\n",
    "    mean_loss = losses.mean()\n",
    "    model.train()\n",
    "    return mean_loss\n",
    "\n",
    "def calculate_perplexity(model, validation_data, num_batch, batch_size, block_size):\n",
    "    perplexities = []\n",
    "    for i in range(0, num_batch):\n",
    "        inputs, outputs = get_batch(validation_data, batch_size, block_size)\n",
    "        with torch.no_grad():\n",
    "            logits, loss = model(inputs)\n",
    "\n",
    "        perplexity = Perplexity()\n",
    "        score = perplexity(preds=logits[:, :-1], target=inputs[:, 1:]) \n",
    "        perplexities.append(score.item())\n",
    "\n",
    "    return np.mean(perplexities)"
   ]
  },
  {
   "cell_type": "markdown",
   "metadata": {},
   "source": [
    "**Model Training Functions:**"
   ]
  },
  {
   "cell_type": "code",
   "execution_count": null,
   "metadata": {},
   "outputs": [],
   "source": [
    "def get_batch(data, batch_size, block_size):\n",
    "    # Choose batch_size random starting points\n",
    "    block_starts = torch.randint(0, len(data) - block_size, (batch_size,))\n",
    "    # Get the inputs and outputs for the chosen blocks, stack them into tensors\n",
    "    batch_inputs = torch.stack([data[start: start + block_size] for start in block_starts])\n",
    "    batch_outputs = torch.stack([data[start + 1: start + block_size + 1] for start in block_starts])\n",
    "    return batch_inputs, batch_outputs\n",
    "\n",
    "# The following functions are adapted from the optimization exercise \n",
    "def _get_config_file(model_path, model_name):\n",
    "    return os.path.join(model_path, model_name + \".config\")\n",
    "\n",
    "def _get_model_file(model_path, model_name):\n",
    "    return os.path.join(model_path, model_name + \".tar\")\n",
    "\n",
    "def _get_result_file(model_path, model_name):\n",
    "    return os.path.join(model_path, model_name + \"_results.json\")\n",
    "\n",
    "def save_model(model, model_path, model_name, model_result):\n",
    "    config_dict = model.config\n",
    "    os.makedirs(model_path, exist_ok=True)\n",
    "    config_file, model_file, result_file = _get_config_file(model_path, model_name), _get_model_file(model_path, model_name), _get_result_file(model_path, model_name)\n",
    "    with open(config_file, \"w\") as f:\n",
    "        json.dump(config_dict, f)\n",
    "    with open(result_file, \"w\") as f:\n",
    "        json.dump(model_result, f)\n",
    "    torch.save(model.state_dict(), model_file)\n",
    "\n",
    "def load_model(model_path, model_name):\n",
    "    config_file, model_file, result_file = _get_config_file(model_path, model_name), _get_model_file(model_path, model_name), _get_result_file(model_path, model_name)\n",
    "    with open(config_file, \"r\") as f:\n",
    "        config_dict = json.load(f)\n",
    "\n",
    "    model = GPT(config_dict[\"vocab_size\"], config_dict[\"block_size\"], config_dict[\"embd_dim\"], config_dict[\"decoders\"], config_dict[\"num_heads\"])\n",
    "    model.load_state_dict(torch.load(model_file))    \n",
    "    \n",
    "    with open(result_file, \"r\") as f:\n",
    "        model_result = json.load(f)\n",
    "\n",
    "    return model, model_result\n",
    "\n",
    "def train_model(train_set, validation_set, model, model_name, optimizer, max_iter=1000, batch_size=256, block_size=32, overwrite=False, savemodel=False):\n",
    "    \"\"\"\n",
    "    Train a model on the training set of FashionMNIST\n",
    "\n",
    "    Inputs:\n",
    "        train_set - Training dataset\n",
    "        validation_set - Validation dataset\n",
    "        model - nn.Module object\n",
    "        model_name - Name of the model\n",
    "        max_iter - Number of iterations we want to (maximally) train for\n",
    "        batch_size - Size of batches used in training\n",
    "        overwrite - Determines if we should overwrite pre-existing models\n",
    "        savemodel - Whether or not we should save the model to a file\n",
    "    \"\"\"\n",
    "    # Check if the model already exists\n",
    "    # If it does and we are not overwriting, load it from the file\n",
    "    # If it doesn't, train the model\n",
    "    file_exists = os.path.isfile(_get_model_file(CHECKPOINT_PATH, model_name))\n",
    "    if file_exists and not overwrite:\n",
    "        print(f\"Model file of \\\"{model_name}\\\" already exists. Skipping training...\")\n",
    "        model, results = load_model(CHECKPOINT_PATH, model_name)\n",
    "    else:\n",
    "        if file_exists:\n",
    "            print(\"Model file exists, but will be overwritten...\")\n",
    "\n",
    "        # Training the model\n",
    "        training_losses = []\n",
    "        validation_losses = []\n",
    "        iters = []\n",
    "        results = {}\n",
    "        model.train()\n",
    "        for iter in range(max_iter):\n",
    "            inputs, outputs = get_batch(train_set, batch_size, block_size)\n",
    "            inputs, outputs = inputs.to(device), outputs.to(device)\n",
    "            optimizer.zero_grad()\n",
    "            preds,loss = model(inputs, outputs)\n",
    "\n",
    "            # Printing \n",
    "            if iter % 500 == 0 or iter == max_iter - 1:\n",
    "                print(f\"iter {iter}: loss = {loss}\")\n",
    "\n",
    "            # Estimate and save the training loss and validation loss\n",
    "            if (iter % 100 == 0):\n",
    "                training_loss = estimate_loss(model, train_set, batch_size, block_size, 500)\n",
    "                validation_loss = estimate_loss(model, validation_set, batch_size, block_size, 500)\n",
    "                training_losses.append(training_loss.item())\n",
    "                validation_losses.append(validation_loss.item())\n",
    "                iters.append(iter)\n",
    "\n",
    "            loss.backward()\n",
    "            optimizer.step()\n",
    "\n",
    "        # Calculate the perplexity and save results to the dict\n",
    "        perplexity = calculate_perplexity(model, validation_set, 500, batch_size, block_size)\n",
    "        results[\"perplexity\"] = perplexity\n",
    "        results[\"iters\"] = iters\n",
    "        results[\"training_loss\"] = training_losses\n",
    "        results[\"validation_loss\"] = validation_losses\n",
    "\n",
    "        # Save the model to a file\n",
    "        if (savemodel):\n",
    "            save_model(model, CHECKPOINT_PATH, model_name, results)\n",
    "\n",
    "    return model, results"
   ]
  },
  {
   "cell_type": "markdown",
   "metadata": {},
   "source": [
    "**Data Preprocessing**\n",
    "\n",
    "Create a custom tokenizer using the HuggingFace Tokenizer package. Then encode the data, convert it into a PyTorch tensor, and split it up into validation data and training data."
   ]
  },
  {
   "cell_type": "code",
   "execution_count": null,
   "metadata": {},
   "outputs": [
    {
     "name": "stdout",
     "output_type": "stream",
     "text": [
      "\n",
      "\n",
      "\n"
     ]
    }
   ],
   "source": [
    "# Create the tokenizer \n",
    "def train_tokenizer(train_file_name, save_file_name, vocab_size):\n",
    "    tokenizer = Tokenizer(BPE(unk_token=\"[UNK]\")) \n",
    "    tokenizer.pre_tokenizer = pre_tokenizers.Sequence([pre_tokenizers.Punctuation(\"isolated\"), pre_tokenizers.Split(\"\\n\", \"isolated\"), pre_tokenizers.Split(\" \", \"isolated\")])\n",
    "    trainer = BpeTrainer(vocab_size=vocab_size)\n",
    "    tokenizer.decoder = BPEDecoder()\n",
    "    tokenizer.train([train_file_name], trainer)\n",
    "    tokenizer.save(save_file_name)\n",
    "    return tokenizer\n",
    "\n",
    "# Load a pre-existing tokenizer\n",
    "def load_tokenizer(file_name):\n",
    "    tokenizer = Tokenizer.from_file(file_name)\n",
    "\n",
    "# Tokenize the data\n",
    "def tokenize_data(tokenizer, raw_data, train_pct):\n",
    "    tokenized_data = tokenizer.encode(raw_data).ids\n",
    "    # Convert into a pytorch tensor\n",
    "    tensor_data = torch.tensor(tokenized_data, dtype=torch.long)\n",
    "    # Split into training and validation sets\n",
    "    train_end = int(len(tensor_data)*train_pct)\n",
    "    training_data = tensor_data[:train_end]\n",
    "    validation_data = tensor_data[train_end:]\n",
    "    return training_data, validation_data\n",
    "\n",
    "tokenizer = train_tokenizer(\"tinyshakespeare.txt\", \"tinyshakespeare_tokenizer.json\", VOCAB_SIZE)\n",
    "training_data, validation_data = tokenize_data(tokenizer, raw_data, TRAIN_PCT)"
   ]
  },
  {
   "cell_type": "markdown",
   "metadata": {},
   "source": [
    "**Train the Bigram model:**"
   ]
  },
  {
   "cell_type": "code",
   "execution_count": null,
   "metadata": {},
   "outputs": [
    {
     "name": "stdout",
     "output_type": "stream",
     "text": [
      "iter 0: loss = 7.792638301849365\n",
      "estimated train loss: 7.7684221267700195, estimated validation loss: 7.763331413269043\n",
      "iter 99: loss = 7.715731620788574\n",
      "estimated train loss: 7.76323938369751, estimated validation loss: 7.75858211517334\n"
     ]
    }
   ],
   "source": [
    "bigram_model = BigramLanguageModel(VOCAB_SIZE).to(device)\n",
    "optimizer = torch.optim.AdamW(bigram_model.parameters(), lr=LR)\n",
    "bigram_model, bigram_results = train_model(\n",
    "    training_data.to(device), validation_data.to(device), bigram_model, \"bigram_model\", optimizer, \n",
    "    max_iter=MAX_ITER, batch_size=BATCH_SIZE, block_size=BLOCK_SIZE\n",
    ")"
   ]
  },
  {
   "cell_type": "markdown",
   "metadata": {},
   "source": [
    "**Train the GPT Model:**"
   ]
  },
  {
   "cell_type": "code",
   "execution_count": null,
   "metadata": {},
   "outputs": [
    {
     "name": "stdout",
     "output_type": "stream",
     "text": [
      "iter 0: loss = 7.375942707061768\n",
      "estimated train loss: 7.3977742195129395, estimated validation loss: 7.399232864379883\n",
      "iter 99: loss = 6.92826509475708\n",
      "estimated train loss: 6.906860828399658, estimated validation loss: 6.909492015838623\n"
     ]
    }
   ],
   "source": [
    "model_name = f\"gpt_model_{VOCAB_SIZE}_{BLOCK_SIZE}_{EMBD_DIM}_{MAX_ITER}_{NUM_DECODERS}_{NUM_HEADS}\"\n",
    "gpt_model = GPT(VOCAB_SIZE, BLOCK_SIZE, EMBD_DIM, NUM_DECODERS, NUM_HEADS).to(device)\n",
    "optimizer = torch.optim.AdamW(gpt_model.parameters(), lr=LR)\n",
    "gpt_model, gpt_results = train_model(\n",
    "    training_data.to(device), validation_data.to(device), gpt_model, model_name, optimizer, \n",
    "    max_iter=MAX_ITER, batch_size=BATCH_SIZE, block_size=BLOCK_SIZE, overwrite=False, savemodel=True \n",
    ")\n"
   ]
  },
  {
   "cell_type": "code",
   "execution_count": 295,
   "metadata": {},
   "outputs": [
    {
     "name": "stdout",
     "output_type": "stream",
     "text": [
      "-------------------------------------\n",
      "Bigram model\n",
      "-------------------------------------\n",
      "[27, 709, 609, 971, 184, 483, 1250, 1305, 326, 321, 904, 708, 1358, 1345, 984, 888, 1429, 873, 290, 864, 1224, 336, 635, 89, 1212, 1490, 235, 322, 570, 437, 569, 781, 367, 1134, 1461, 798, 380, 781, 158, 820, 1154, 669, 419, 479, 603, 1225, 1155, 909, 1113, 1325, 512, 1364, 1459, 198, 1496, 860, 1365, 581, 295, 1452, 1220, 85, 330, 1166, 448, 334, 1161, 804, 177, 650, 518, 69, 675, 615, 792, 286, 1488, 978, 1204, 748, 834, 949, 1014, 138, 370, 355, 334, 1027, 1020, 1316, 837, 92, 1209, 1356, 184, 256, 201, 924, 439, 450, 48]\n",
      "OangeorncerThSeborngainstookoundpardonmiMayvingmangarwhyreturnlaymaypeoplepitytoocourofholySigniorantithullarmppShaagainHORTENheirmeanmineShahereelsecareitizentellQUEENThentwminsaidaccplainYourhalilycomeOnemasterchangewrwayHadPAnofiAUTfrienduselieveThysuSecondjoanrightTEScharspespiritlackpherdCEconfINGBROtresshaveviworduseliesClarsmnatingTakeDidThworromboyThisoulj\n",
      "-------------------------------------\n",
      "GPT model\n",
      "-------------------------------------\n",
      "[27, 134, 806, 693, 812, 1126, 788, 353, 367, 1435, 900, 1125, 1443, 357, 1336, 1182, 724, 932, 664, 869, 172, 268, 1259, 1298, 1482, 1297, 982, 1299, 1168, 362, 740, 392, 209, 938, 447, 822, 600, 721, 1036, 762, 1360, 1094, 977, 48, 871, 618, 1191, 369, 1374, 427, 159, 899, 803, 1246, 1362, 1416, 405, 860, 1476, 440, 1251, 316, 565, 1075, 607, 149, 919, 1149, 1315, 1177, 982, 120, 1318, 500, 1319, 108, 274, 1412, 1175, 1072, 606, 573, 327, 1166, 1416, 901, 171, 502, 337, 739, 188, 1377, 1360, 163, 906, 139, 683, 1373, 905, 996, 663]\n",
      "OghtLUCIOinsechpatitainreatagainComPULhappywithoutIfBEREYJULheardpoorarewellwillthenLUCENTIOdelithyselfoftNEyoursCOMspeakILhearERBOLWhoYoracemadciusSerbatsleepstatejplaceiteshaltfulLAURENCEbreoodHAMfullMERCUTIOsitMonlandmasterpastTERfreewhoptAUdownhoMIOHORTENSIOpainOLYCUSNEoodemcheyourselfedMyNORTHUMBERonestbrokeRUCHThereshouldAUTMondramtlehadwordstheePetbatfahitherhimplatenderrepwhomINA\n"
     ]
    }
   ],
   "source": [
    "starting_text = \"O Romeo, Romeo, wherefore art thou Romeo?\"\n",
    "starting_tokens = tokenizer.encode(starting_text).ids\n",
    "starting_tokens = torch.tensor(starting_tokens, dtype=torch.long).reshape(-1,1)\n",
    "\n",
    "print(\"-------------------------------------\")\n",
    "print(\"Bigram model\")\n",
    "print(\"-------------------------------------\")\n",
    "gen_tokens = bigram_model.generate(curr_tokens = starting_tokens.to(device), num_gen_tokens = 100)[0].tolist()\n",
    "print(gen_tokens)\n",
    "print(tokenizer.decode(gen_tokens))\n",
    "\n",
    "print(\"-------------------------------------\")\n",
    "print(\"GPT model\")\n",
    "print(\"-------------------------------------\")\n",
    "gen_tokens = gpt_model.generate(curr_tokens = starting_tokens.to(device), num_gen_tokens = 100)[0].tolist()\n",
    "print(gen_tokens)\n",
    "print(tokenizer.decode(gen_tokens))"
   ]
  },
  {
   "cell_type": "markdown",
   "metadata": {},
   "source": [
    "**Plot the training loss and the validation loss for each iteration:**"
   ]
  },
  {
   "cell_type": "code",
   "execution_count": 312,
   "metadata": {},
   "outputs": [
    {
     "data": {
      "image/png": "[encoded data removed]",
      "text/plain": [
       "<Figure size 1000x500 with 1 Axes>"
      ]
     },
     "metadata": {},
     "output_type": "display_data"
    }
   ],
   "source": [
    "plt.figure(figsize=(10, 5))\n",
    "plt.plot(bigram_results[\"iters\"], bigram_results[\"training_loss\"], label=\"Bigram Training Loss\", color=\"blue\", linestyle=\"--\")\n",
    "plt.plot(bigram_results[\"iters\"], bigram_results[\"validation_loss\"], label=\"Bigram Validation Loss\", color=\"red\", linestyle=\"--\")\n",
    "plt.plot(gpt_results[\"iters\"], gpt_results[\"training_loss\"], label=\"GPT Training Loss\", color=\"blue\", linestyle=\"-\")\n",
    "plt.plot(gpt_results[\"iters\"], gpt_results[\"validation_loss\"], label=\"GPT Validation Loss\", color=\"red\", linestyle=\"-\")\n",
    "\n",
    "# Labels and title\n",
    "plt.xlabel(\"Iterations\")\n",
    "plt.ylabel(\"Estimated Cross Entropy Loss\")\n",
    "plt.title(\"Training vs Validation Loss\")\n",
    "plt.legend()\n",
    "plt.grid(True)\n",
    "\n",
    "# Show the plot\n",
    "plt.show()"
   ]
  },
  {
   "cell_type": "markdown",
   "metadata": {},
   "source": [
    "**Perform a grid search to find the best parameters:**"
   ]
  },
  {
   "cell_type": "code",
   "execution_count": null,
   "metadata": {},
   "outputs": [],
   "source": [
    "block_sizes = [8, 16, 32]\n",
    "batch_sizes = [64, 128, 256]\n",
    "max_iters = [500]\n",
    "vocab_sizes = [2000]\n",
    "embd_dims = [48, 96, 192]\n",
    "num_decoders = [12, 16]\n",
    "num_heads = [12, 16]\n",
    "\n",
    "for vocab_size in vocab_sizes:\n",
    "    tokenizer = train_tokenizer(\"tinyshakespeare.txt\", \"tinyshakespeare_tokenizer.json\", vocab_size)\n",
    "    training_data, validation_data = tokenize_data(tokenizer, raw_data, TRAIN_PCT)\n",
    "    for block_size in block_sizes:\n",
    "        for batch_size in batch_sizes:\n",
    "            for max_iter in max_iters:\n",
    "                for embd_dim in embd_dims:\n",
    "                    for num_decoder in num_decoders:\n",
    "                        for num_head in num_heads:\n",
    "                            model_name = f\"gpt_model_{vocab_size}_{block_size}_{embd_dim}_{max_iter}_{num_decoder}_{num_head}\"\n",
    "                            print(f\"Training model {model_name}\")\n",
    "                            gpt_model = GPT(vocab_size, block_size, embd_dim, num_decoder, num_head).to(device)\n",
    "                            optimizer = torch.optim.AdamW(gpt_model.parameters(), lr=LR)\n",
    "                            gpt_model, gpt_results = train_model(\n",
    "                                training_data.to(device), validation_data.to(device), gpt_model, model_name, optimizer, \n",
    "                                max_iter=max_iter, batch_size=batch_size, block_size=block_size, overwrite=False, savemodel=True \n",
    "                            )\n",
    "\n",
    "\n"
   ]
  }
 ],
 "metadata": {
  "kernelspec": {
   "display_name": "Python (BML_GPT_mac)",
   "language": "python",
   "name": "bml_gpt_mac"
  },
  "language_info": {
   "codemirror_mode": {
    "name": "ipython",
    "version": 3
   },
   "file_extension": ".py",
   "mimetype": "text/x-python",
   "name": "python",
   "nbconvert_exporter": "python",
   "pygments_lexer": "ipython3",
   "version": "3.12.9"
  }
 },
 "nbformat": 4,
 "nbformat_minor": 2
}
